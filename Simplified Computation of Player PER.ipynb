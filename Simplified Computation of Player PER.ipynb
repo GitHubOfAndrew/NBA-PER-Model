{
 "cells": [
  {
   "cell_type": "markdown",
   "id": "11d3f768",
   "metadata": {},
   "source": [
    "# Computing Player PER\n",
    "\n",
    "The **Player Efficiency Rating (PER)** is a metric first introduced by ESPN's John Hollinger. It is intended to capture a player's performance per minute that they play, as many of the traditional stats cannot be used to effectively compare players (Pts, Ast, Reb, Blk, Stl). \n",
    "\n",
    "However, this statistic is extremely tedious to compute. Just look at the formula here:\n",
    "\n",
    "https://en.wikipedia.org/wiki/Player_efficiency_rating\n",
    "\n",
    "Or here:\n",
    "\n",
    "https://hackastat.eu/en/learn-a-stat-player-efficiency-rating-per/\n",
    "\n",
    "The PER, according to Hollinger's original formulation, takes in *21 parameters*: 10 player statistics, 3 team statistics, and 8 league-wide statistics. This is monstrous! The exact computation of this for the whole league also requires some preprocessing to perform efficiently. The PER is meant to be a holistic metric of the player's contributions to their respective team's statistical production, however, from the practitioner's end, we would like the PER to be more accessible and more simple of a model of player performance.\n",
    "\n",
    "Here, we will utilize machine learning to create a simple mathematical model that will model the PER.\n",
    "\n",
    "## Load the Data\n",
    "\n",
    "We wrote a whole scraping and preprocessing pipeline for this. We download the CSV that results from this process. For more info, check out the notebook *Scraping NBA Data + Analysis*."
   ]
  },
  {
   "cell_type": "code",
   "execution_count": 1,
   "id": "9d12e9bd",
   "metadata": {},
   "outputs": [],
   "source": [
    "import numpy as np\n",
    "import pandas as pd\n",
    "import matplotlib.pyplot as plt"
   ]
  },
  {
   "cell_type": "markdown",
   "id": "e585576a",
   "metadata": {},
   "source": [
    "Our data of all the necessary **player** parameters, along with their PER is here."
   ]
  },
  {
   "cell_type": "code",
   "execution_count": 2,
   "id": "038c0fa4",
   "metadata": {},
   "outputs": [
    {
     "data": {
      "text/html": [
       "<div>\n",
       "<style scoped>\n",
       "    .dataframe tbody tr th:only-of-type {\n",
       "        vertical-align: middle;\n",
       "    }\n",
       "\n",
       "    .dataframe tbody tr th {\n",
       "        vertical-align: top;\n",
       "    }\n",
       "\n",
       "    .dataframe thead th {\n",
       "        text-align: right;\n",
       "    }\n",
       "</style>\n",
       "<table border=\"1\" class=\"dataframe\">\n",
       "  <thead>\n",
       "    <tr style=\"text-align: right;\">\n",
       "      <th></th>\n",
       "      <th>PLAYER_NAME</th>\n",
       "      <th>TEAM_HIST</th>\n",
       "      <th>Season</th>\n",
       "      <th>MIN</th>\n",
       "      <th>PLAYER_FGM</th>\n",
       "      <th>PLAYER_FGA</th>\n",
       "      <th>PLAYER_FG3M</th>\n",
       "      <th>PLAYER_FTM</th>\n",
       "      <th>PLAYER_FTA</th>\n",
       "      <th>PLAYER_AST</th>\n",
       "      <th>...</th>\n",
       "      <th>TEAM_PTS</th>\n",
       "      <th>TEAM_OREB</th>\n",
       "      <th>TEAM_TOV</th>\n",
       "      <th>TEAM_PF</th>\n",
       "      <th>TEAM_DREB%</th>\n",
       "      <th>TEAM_PACE</th>\n",
       "      <th>PLAYER_RAW_PER</th>\n",
       "      <th>PLAYER_PACE_CORRECTED_PER</th>\n",
       "      <th>Min * cPER</th>\n",
       "      <th>PLAYER_PER</th>\n",
       "    </tr>\n",
       "  </thead>\n",
       "  <tbody>\n",
       "    <tr>\n",
       "      <th>0</th>\n",
       "      <td>Aaron Gordon</td>\n",
       "      <td>2020-21 DEN</td>\n",
       "      <td>2020-21</td>\n",
       "      <td>1383.780000</td>\n",
       "      <td>231</td>\n",
       "      <td>499</td>\n",
       "      <td>59</td>\n",
       "      <td>97</td>\n",
       "      <td>149</td>\n",
       "      <td>161</td>\n",
       "      <td>...</td>\n",
       "      <td>8284</td>\n",
       "      <td>758</td>\n",
       "      <td>972.0</td>\n",
       "      <td>1374</td>\n",
       "      <td>0.751</td>\n",
       "      <td>99.3</td>\n",
       "      <td>0.318304</td>\n",
       "      <td>0.325100</td>\n",
       "      <td>449.866928</td>\n",
       "      <td>14.525479</td>\n",
       "    </tr>\n",
       "    <tr>\n",
       "      <th>1</th>\n",
       "      <td>Aaron Gordon</td>\n",
       "      <td>2021-22 DEN</td>\n",
       "      <td>2021-22</td>\n",
       "      <td>2375.418333</td>\n",
       "      <td>434</td>\n",
       "      <td>834</td>\n",
       "      <td>87</td>\n",
       "      <td>171</td>\n",
       "      <td>230</td>\n",
       "      <td>188</td>\n",
       "      <td>...</td>\n",
       "      <td>9243</td>\n",
       "      <td>752</td>\n",
       "      <td>1189.0</td>\n",
       "      <td>1639</td>\n",
       "      <td>0.752</td>\n",
       "      <td>99.9</td>\n",
       "      <td>0.336415</td>\n",
       "      <td>0.338694</td>\n",
       "      <td>804.539445</td>\n",
       "      <td>15.201557</td>\n",
       "    </tr>\n",
       "    <tr>\n",
       "      <th>2</th>\n",
       "      <td>Aaron Gordon</td>\n",
       "      <td>2019-20 ORL</td>\n",
       "      <td>2019-20</td>\n",
       "      <td>2017.143333</td>\n",
       "      <td>335</td>\n",
       "      <td>767</td>\n",
       "      <td>73</td>\n",
       "      <td>151</td>\n",
       "      <td>224</td>\n",
       "      <td>228</td>\n",
       "      <td>...</td>\n",
       "      <td>7831</td>\n",
       "      <td>751</td>\n",
       "      <td>937.0</td>\n",
       "      <td>1336</td>\n",
       "      <td>0.749</td>\n",
       "      <td>100.9</td>\n",
       "      <td>0.329583</td>\n",
       "      <td>0.335397</td>\n",
       "      <td>676.544103</td>\n",
       "      <td>15.232287</td>\n",
       "    </tr>\n",
       "    <tr>\n",
       "      <th>3</th>\n",
       "      <td>Aaron Henry</td>\n",
       "      <td>2021-22 PHI</td>\n",
       "      <td>2021-22</td>\n",
       "      <td>16.983333</td>\n",
       "      <td>1</td>\n",
       "      <td>5</td>\n",
       "      <td>0</td>\n",
       "      <td>0</td>\n",
       "      <td>0</td>\n",
       "      <td>0</td>\n",
       "      <td>...</td>\n",
       "      <td>9015</td>\n",
       "      <td>700</td>\n",
       "      <td>1027.0</td>\n",
       "      <td>1590</td>\n",
       "      <td>0.724</td>\n",
       "      <td>98.4</td>\n",
       "      <td>-0.146567</td>\n",
       "      <td>-0.149809</td>\n",
       "      <td>-2.544259</td>\n",
       "      <td>-6.723868</td>\n",
       "    </tr>\n",
       "    <tr>\n",
       "      <th>4</th>\n",
       "      <td>Aaron Holiday</td>\n",
       "      <td>2019-20 IND</td>\n",
       "      <td>2019-20</td>\n",
       "      <td>1617.331667</td>\n",
       "      <td>233</td>\n",
       "      <td>563</td>\n",
       "      <td>87</td>\n",
       "      <td>74</td>\n",
       "      <td>87</td>\n",
       "      <td>225</td>\n",
       "      <td>...</td>\n",
       "      <td>7989</td>\n",
       "      <td>636</td>\n",
       "      <td>967.0</td>\n",
       "      <td>1445</td>\n",
       "      <td>0.718</td>\n",
       "      <td>101.3</td>\n",
       "      <td>0.253952</td>\n",
       "      <td>0.257412</td>\n",
       "      <td>416.320241</td>\n",
       "      <td>11.690530</td>\n",
       "    </tr>\n",
       "    <tr>\n",
       "      <th>...</th>\n",
       "      <td>...</td>\n",
       "      <td>...</td>\n",
       "      <td>...</td>\n",
       "      <td>...</td>\n",
       "      <td>...</td>\n",
       "      <td>...</td>\n",
       "      <td>...</td>\n",
       "      <td>...</td>\n",
       "      <td>...</td>\n",
       "      <td>...</td>\n",
       "      <td>...</td>\n",
       "      <td>...</td>\n",
       "      <td>...</td>\n",
       "      <td>...</td>\n",
       "      <td>...</td>\n",
       "      <td>...</td>\n",
       "      <td>...</td>\n",
       "      <td>...</td>\n",
       "      <td>...</td>\n",
       "      <td>...</td>\n",
       "      <td>...</td>\n",
       "    </tr>\n",
       "    <tr>\n",
       "      <th>1669</th>\n",
       "      <td>Ziaire Williams</td>\n",
       "      <td>2021-22 MEM</td>\n",
       "      <td>2021-22</td>\n",
       "      <td>1346.466667</td>\n",
       "      <td>191</td>\n",
       "      <td>424</td>\n",
       "      <td>76</td>\n",
       "      <td>43</td>\n",
       "      <td>55</td>\n",
       "      <td>65</td>\n",
       "      <td>...</td>\n",
       "      <td>9480</td>\n",
       "      <td>1159</td>\n",
       "      <td>1082.0</td>\n",
       "      <td>1620</td>\n",
       "      <td>0.726</td>\n",
       "      <td>103.1</td>\n",
       "      <td>0.222252</td>\n",
       "      <td>0.216813</td>\n",
       "      <td>291.931368</td>\n",
       "      <td>9.731191</td>\n",
       "    </tr>\n",
       "    <tr>\n",
       "      <th>1670</th>\n",
       "      <td>Zion Williamson</td>\n",
       "      <td>2019-20 NOP</td>\n",
       "      <td>2019-20</td>\n",
       "      <td>668.141667</td>\n",
       "      <td>210</td>\n",
       "      <td>360</td>\n",
       "      <td>6</td>\n",
       "      <td>114</td>\n",
       "      <td>178</td>\n",
       "      <td>50</td>\n",
       "      <td>...</td>\n",
       "      <td>8341</td>\n",
       "      <td>797</td>\n",
       "      <td>1181.0</td>\n",
       "      <td>1524</td>\n",
       "      <td>0.729</td>\n",
       "      <td>106.3</td>\n",
       "      <td>0.538155</td>\n",
       "      <td>0.519828</td>\n",
       "      <td>347.318788</td>\n",
       "      <td>23.608341</td>\n",
       "    </tr>\n",
       "    <tr>\n",
       "      <th>1671</th>\n",
       "      <td>Zion Williamson</td>\n",
       "      <td>2020-21 NOP</td>\n",
       "      <td>2020-21</td>\n",
       "      <td>2025.890000</td>\n",
       "      <td>634</td>\n",
       "      <td>1037</td>\n",
       "      <td>10</td>\n",
       "      <td>369</td>\n",
       "      <td>529</td>\n",
       "      <td>226</td>\n",
       "      <td>...</td>\n",
       "      <td>8251</td>\n",
       "      <td>845</td>\n",
       "      <td>1052.0</td>\n",
       "      <td>1295</td>\n",
       "      <td>0.755</td>\n",
       "      <td>102.3</td>\n",
       "      <td>0.599331</td>\n",
       "      <td>0.594175</td>\n",
       "      <td>1203.733969</td>\n",
       "      <td>26.547773</td>\n",
       "    </tr>\n",
       "    <tr>\n",
       "      <th>1672</th>\n",
       "      <td>Zylan Cheatham</td>\n",
       "      <td>2019-20 NOP</td>\n",
       "      <td>2019-20</td>\n",
       "      <td>51.043333</td>\n",
       "      <td>6</td>\n",
       "      <td>9</td>\n",
       "      <td>0</td>\n",
       "      <td>0</td>\n",
       "      <td>0</td>\n",
       "      <td>3</td>\n",
       "      <td>...</td>\n",
       "      <td>8341</td>\n",
       "      <td>797</td>\n",
       "      <td>1181.0</td>\n",
       "      <td>1524</td>\n",
       "      <td>0.729</td>\n",
       "      <td>106.3</td>\n",
       "      <td>0.150970</td>\n",
       "      <td>0.145829</td>\n",
       "      <td>7.443590</td>\n",
       "      <td>6.622915</td>\n",
       "    </tr>\n",
       "    <tr>\n",
       "      <th>1673</th>\n",
       "      <td>Zylan Cheatham</td>\n",
       "      <td>2021-22 UTA</td>\n",
       "      <td>2021-22</td>\n",
       "      <td>5.183333</td>\n",
       "      <td>0</td>\n",
       "      <td>3</td>\n",
       "      <td>0</td>\n",
       "      <td>0</td>\n",
       "      <td>0</td>\n",
       "      <td>0</td>\n",
       "      <td>...</td>\n",
       "      <td>9316</td>\n",
       "      <td>884</td>\n",
       "      <td>1148.0</td>\n",
       "      <td>1547</td>\n",
       "      <td>0.738</td>\n",
       "      <td>99.5</td>\n",
       "      <td>-0.458963</td>\n",
       "      <td>-0.463930</td>\n",
       "      <td>-2.404701</td>\n",
       "      <td>-20.822499</td>\n",
       "    </tr>\n",
       "  </tbody>\n",
       "</table>\n",
       "<p>1674 rows × 31 columns</p>\n",
       "</div>"
      ],
      "text/plain": [
       "          PLAYER_NAME    TEAM_HIST   Season          MIN  PLAYER_FGM  \\\n",
       "0        Aaron Gordon  2020-21 DEN  2020-21  1383.780000         231   \n",
       "1        Aaron Gordon  2021-22 DEN  2021-22  2375.418333         434   \n",
       "2        Aaron Gordon  2019-20 ORL  2019-20  2017.143333         335   \n",
       "3         Aaron Henry  2021-22 PHI  2021-22    16.983333           1   \n",
       "4       Aaron Holiday  2019-20 IND  2019-20  1617.331667         233   \n",
       "...               ...          ...      ...          ...         ...   \n",
       "1669  Ziaire Williams  2021-22 MEM  2021-22  1346.466667         191   \n",
       "1670  Zion Williamson  2019-20 NOP  2019-20   668.141667         210   \n",
       "1671  Zion Williamson  2020-21 NOP  2020-21  2025.890000         634   \n",
       "1672   Zylan Cheatham  2019-20 NOP  2019-20    51.043333           6   \n",
       "1673   Zylan Cheatham  2021-22 UTA  2021-22     5.183333           0   \n",
       "\n",
       "      PLAYER_FGA  PLAYER_FG3M  PLAYER_FTM  PLAYER_FTA  PLAYER_AST  ...  \\\n",
       "0            499           59          97         149         161  ...   \n",
       "1            834           87         171         230         188  ...   \n",
       "2            767           73         151         224         228  ...   \n",
       "3              5            0           0           0           0  ...   \n",
       "4            563           87          74          87         225  ...   \n",
       "...          ...          ...         ...         ...         ...  ...   \n",
       "1669         424           76          43          55          65  ...   \n",
       "1670         360            6         114         178          50  ...   \n",
       "1671        1037           10         369         529         226  ...   \n",
       "1672           9            0           0           0           3  ...   \n",
       "1673           3            0           0           0           0  ...   \n",
       "\n",
       "      TEAM_PTS  TEAM_OREB  TEAM_TOV  TEAM_PF  TEAM_DREB%  TEAM_PACE  \\\n",
       "0         8284        758     972.0     1374       0.751       99.3   \n",
       "1         9243        752    1189.0     1639       0.752       99.9   \n",
       "2         7831        751     937.0     1336       0.749      100.9   \n",
       "3         9015        700    1027.0     1590       0.724       98.4   \n",
       "4         7989        636     967.0     1445       0.718      101.3   \n",
       "...        ...        ...       ...      ...         ...        ...   \n",
       "1669      9480       1159    1082.0     1620       0.726      103.1   \n",
       "1670      8341        797    1181.0     1524       0.729      106.3   \n",
       "1671      8251        845    1052.0     1295       0.755      102.3   \n",
       "1672      8341        797    1181.0     1524       0.729      106.3   \n",
       "1673      9316        884    1148.0     1547       0.738       99.5   \n",
       "\n",
       "      PLAYER_RAW_PER  PLAYER_PACE_CORRECTED_PER   Min * cPER  PLAYER_PER  \n",
       "0           0.318304                   0.325100   449.866928   14.525479  \n",
       "1           0.336415                   0.338694   804.539445   15.201557  \n",
       "2           0.329583                   0.335397   676.544103   15.232287  \n",
       "3          -0.146567                  -0.149809    -2.544259   -6.723868  \n",
       "4           0.253952                   0.257412   416.320241   11.690530  \n",
       "...              ...                        ...          ...         ...  \n",
       "1669        0.222252                   0.216813   291.931368    9.731191  \n",
       "1670        0.538155                   0.519828   347.318788   23.608341  \n",
       "1671        0.599331                   0.594175  1203.733969   26.547773  \n",
       "1672        0.150970                   0.145829     7.443590    6.622915  \n",
       "1673       -0.458963                  -0.463930    -2.404701  -20.822499  \n",
       "\n",
       "[1674 rows x 31 columns]"
      ]
     },
     "execution_count": 2,
     "metadata": {},
     "output_type": "execute_result"
    }
   ],
   "source": [
    "df = pd.read_csv('Player_PER.csv')\n",
    "\n",
    "df"
   ]
  },
  {
   "cell_type": "code",
   "execution_count": 3,
   "id": "d55dc12f",
   "metadata": {},
   "outputs": [
    {
     "data": {
      "text/plain": [
       "PLAYER_NAME                  0\n",
       "TEAM_HIST                    0\n",
       "Season                       0\n",
       "MIN                          0\n",
       "PLAYER_FGM                   0\n",
       "PLAYER_FGA                   0\n",
       "PLAYER_FG3M                  0\n",
       "PLAYER_FTM                   0\n",
       "PLAYER_FTA                   0\n",
       "PLAYER_AST                   0\n",
       "PLAYER_TOV                   0\n",
       "PLAYER_OREB                  0\n",
       "PLAYER_DREB                  0\n",
       "PLAYER_STL                   0\n",
       "PLAYER_BLK                   0\n",
       "PLAYER_PF                    0\n",
       "TEAM_FGM                     0\n",
       "TEAM_AST                     0\n",
       "TEAM_FGA                     0\n",
       "TEAM_FTM                     0\n",
       "TEAM_FTA                     0\n",
       "TEAM_PTS                     0\n",
       "TEAM_OREB                    0\n",
       "TEAM_TOV                     0\n",
       "TEAM_PF                      0\n",
       "TEAM_DREB%                   0\n",
       "TEAM_PACE                    0\n",
       "PLAYER_RAW_PER               0\n",
       "PLAYER_PACE_CORRECTED_PER    0\n",
       "Min * cPER                   0\n",
       "PLAYER_PER                   0\n",
       "dtype: int64"
      ]
     },
     "execution_count": 3,
     "metadata": {},
     "output_type": "execute_result"
    }
   ],
   "source": [
    "df.isnull().sum()"
   ]
  },
  {
   "cell_type": "markdown",
   "id": "61fac4ea",
   "metadata": {},
   "source": [
    "## Preprocessing and Analysis\n",
    "\n",
    "There is minimal preprocessing to be done here because the PER was computed according to a set formula. \n",
    "\n",
    "### Filter out Potential Outliers\n",
    "\n",
    "One thing that we would do is to throw out the PER's of players who have little playtime/action. The player's PER's are usually EXTREMELY skewed in either direction. So we would like to filter out these entries."
   ]
  },
  {
   "cell_type": "code",
   "execution_count": 4,
   "id": "5621cbd0",
   "metadata": {},
   "outputs": [],
   "source": [
    "# create a total rebounds category\n",
    "\n",
    "df['PLAYER_TREB'] = df['PLAYER_DREB'] + df['PLAYER_OREB']\n",
    "\n",
    "# create a total free throws missed category\n",
    "\n",
    "df['PLAYER_FT_MISSED'] = df['PLAYER_FTA'] - df['PLAYER_FTM']\n",
    "\n",
    "# create a total field goals missed category\n",
    "\n",
    "df['PLAYER_FG_MISSED'] = df['PLAYER_FGA'] - df['PLAYER_FGM']\n"
   ]
  },
  {
   "cell_type": "code",
   "execution_count": 5,
   "id": "eb81adc6",
   "metadata": {},
   "outputs": [
    {
     "data": {
      "text/html": [
       "<div>\n",
       "<style scoped>\n",
       "    .dataframe tbody tr th:only-of-type {\n",
       "        vertical-align: middle;\n",
       "    }\n",
       "\n",
       "    .dataframe tbody tr th {\n",
       "        vertical-align: top;\n",
       "    }\n",
       "\n",
       "    .dataframe thead th {\n",
       "        text-align: right;\n",
       "    }\n",
       "</style>\n",
       "<table border=\"1\" class=\"dataframe\">\n",
       "  <thead>\n",
       "    <tr style=\"text-align: right;\">\n",
       "      <th></th>\n",
       "      <th>MIN</th>\n",
       "      <th>PLAYER_FGA</th>\n",
       "      <th>PLAYER_FTA</th>\n",
       "      <th>PLAYER_AST</th>\n",
       "      <th>PLAYER_STL</th>\n",
       "      <th>PLAYER_BLK</th>\n",
       "      <th>PLAYER_TREB</th>\n",
       "    </tr>\n",
       "  </thead>\n",
       "  <tbody>\n",
       "    <tr>\n",
       "      <th>count</th>\n",
       "      <td>1674.000000</td>\n",
       "      <td>1674.000000</td>\n",
       "      <td>1674.000000</td>\n",
       "      <td>1674.000000</td>\n",
       "      <td>1674.000000</td>\n",
       "      <td>1674.000000</td>\n",
       "      <td>1674.000000</td>\n",
       "    </tr>\n",
       "    <tr>\n",
       "      <th>mean</th>\n",
       "      <td>972.114695</td>\n",
       "      <td>355.926523</td>\n",
       "      <td>89.521505</td>\n",
       "      <td>99.081243</td>\n",
       "      <td>30.661888</td>\n",
       "      <td>19.412186</td>\n",
       "      <td>179.205496</td>\n",
       "    </tr>\n",
       "    <tr>\n",
       "      <th>std</th>\n",
       "      <td>747.682337</td>\n",
       "      <td>332.286255</td>\n",
       "      <td>106.396988</td>\n",
       "      <td>116.457758</td>\n",
       "      <td>27.017258</td>\n",
       "      <td>23.877396</td>\n",
       "      <td>169.052773</td>\n",
       "    </tr>\n",
       "    <tr>\n",
       "      <th>min</th>\n",
       "      <td>0.623333</td>\n",
       "      <td>0.000000</td>\n",
       "      <td>0.000000</td>\n",
       "      <td>0.000000</td>\n",
       "      <td>0.000000</td>\n",
       "      <td>0.000000</td>\n",
       "      <td>0.000000</td>\n",
       "    </tr>\n",
       "    <tr>\n",
       "      <th>25%</th>\n",
       "      <td>251.879583</td>\n",
       "      <td>72.000000</td>\n",
       "      <td>14.000000</td>\n",
       "      <td>17.000000</td>\n",
       "      <td>7.000000</td>\n",
       "      <td>3.000000</td>\n",
       "      <td>45.000000</td>\n",
       "    </tr>\n",
       "    <tr>\n",
       "      <th>50%</th>\n",
       "      <td>906.603333</td>\n",
       "      <td>268.000000</td>\n",
       "      <td>55.000000</td>\n",
       "      <td>61.000000</td>\n",
       "      <td>26.000000</td>\n",
       "      <td>12.000000</td>\n",
       "      <td>140.000000</td>\n",
       "    </tr>\n",
       "    <tr>\n",
       "      <th>75%</th>\n",
       "      <td>1586.587500</td>\n",
       "      <td>554.000000</td>\n",
       "      <td>122.000000</td>\n",
       "      <td>130.000000</td>\n",
       "      <td>47.000000</td>\n",
       "      <td>26.000000</td>\n",
       "      <td>264.000000</td>\n",
       "    </tr>\n",
       "    <tr>\n",
       "      <th>max</th>\n",
       "      <td>2854.353333</td>\n",
       "      <td>1564.000000</td>\n",
       "      <td>803.000000</td>\n",
       "      <td>763.000000</td>\n",
       "      <td>138.000000</td>\n",
       "      <td>196.000000</td>\n",
       "      <td>1019.000000</td>\n",
       "    </tr>\n",
       "  </tbody>\n",
       "</table>\n",
       "</div>"
      ],
      "text/plain": [
       "               MIN   PLAYER_FGA   PLAYER_FTA   PLAYER_AST   PLAYER_STL  \\\n",
       "count  1674.000000  1674.000000  1674.000000  1674.000000  1674.000000   \n",
       "mean    972.114695   355.926523    89.521505    99.081243    30.661888   \n",
       "std     747.682337   332.286255   106.396988   116.457758    27.017258   \n",
       "min       0.623333     0.000000     0.000000     0.000000     0.000000   \n",
       "25%     251.879583    72.000000    14.000000    17.000000     7.000000   \n",
       "50%     906.603333   268.000000    55.000000    61.000000    26.000000   \n",
       "75%    1586.587500   554.000000   122.000000   130.000000    47.000000   \n",
       "max    2854.353333  1564.000000   803.000000   763.000000   138.000000   \n",
       "\n",
       "        PLAYER_BLK  PLAYER_TREB  \n",
       "count  1674.000000  1674.000000  \n",
       "mean     19.412186   179.205496  \n",
       "std      23.877396   169.052773  \n",
       "min       0.000000     0.000000  \n",
       "25%       3.000000    45.000000  \n",
       "50%      12.000000   140.000000  \n",
       "75%      26.000000   264.000000  \n",
       "max     196.000000  1019.000000  "
      ]
     },
     "execution_count": 5,
     "metadata": {},
     "output_type": "execute_result"
    }
   ],
   "source": [
    "df[['MIN', 'PLAYER_FGA', 'PLAYER_FTA', 'PLAYER_AST', 'PLAYER_STL', 'PLAYER_BLK', 'PLAYER_TREB']].describe()"
   ]
  },
  {
   "cell_type": "markdown",
   "id": "9f90c152",
   "metadata": {},
   "source": [
    "Because our mean and median (50th percentile) do not coincide, (our median is less than our mean), this indicates to us that the distribution of player minutes is **right-skew**.\n",
    "\n",
    "However, since we have the means to do so, we may visualize it."
   ]
  },
  {
   "cell_type": "code",
   "execution_count": 6,
   "id": "a08d4251",
   "metadata": {},
   "outputs": [
    {
     "data": {
      "image/png": "[encoded data removed]",
      "text/plain": [
       "<Figure size 432x288 with 1 Axes>"
      ]
     },
     "metadata": {
      "needs_background": "light"
     },
     "output_type": "display_data"
    }
   ],
   "source": [
    "fig1 = plt.figure(figsize=(6,4))\n",
    "\n",
    "axis1 = fig1.add_axes([0.1,0.1,0.9,0.9])\n",
    "\n",
    "axis1.set_title('Distribution of Player Minutes (2019-22)')\n",
    "\n",
    "axis1.set_xlabel('Player Minutes (Total Per Season)')\n",
    "\n",
    "axis1.set_ylabel('Frequency')\n",
    "\n",
    "axis1.hist(df['MIN'], bins=20, color='orange', ec='black')\n",
    "\n",
    "plt.show()"
   ]
  },
  {
   "cell_type": "markdown",
   "id": "73253aaf",
   "metadata": {},
   "source": [
    "To see that the player minutes is indicative of opportunities for production, let us just plot distributions of all of the other statistical categories."
   ]
  },
  {
   "cell_type": "code",
   "execution_count": 7,
   "id": "ef4a9cbf",
   "metadata": {},
   "outputs": [
    {
     "data": {
      "image/png": "[encoded data removed]",
      "text/plain": [
       "<Figure size 432x288 with 1 Axes>"
      ]
     },
     "metadata": {
      "needs_background": "light"
     },
     "output_type": "display_data"
    }
   ],
   "source": [
    "fig2 = plt.figure(figsize=(6,4))\n",
    "\n",
    "axis2 = fig2.add_axes([0.1,0.1,0.9,0.9])\n",
    "\n",
    "axis2.set_title('Distribution of Player Points (2019-22)')\n",
    "\n",
    "axis2.set_xlabel('Player Field Goals Made (Total Per Season)')\n",
    "\n",
    "axis2.set_ylabel('Frequency')\n",
    "\n",
    "axis2.hist(df['PLAYER_FGM'], bins=20, color='orange', ec='black')\n",
    "\n",
    "plt.show()"
   ]
  },
  {
   "cell_type": "code",
   "execution_count": 8,
   "id": "d48b2e1b",
   "metadata": {},
   "outputs": [
    {
     "data": {
      "image/png": "[encoded data removed]",
      "text/plain": [
       "<Figure size 432x288 with 1 Axes>"
      ]
     },
     "metadata": {
      "needs_background": "light"
     },
     "output_type": "display_data"
    }
   ],
   "source": [
    "fig3 = plt.figure(figsize=(6,4))\n",
    "\n",
    "axis3 = fig3.add_axes([0.1,0.1,0.9,0.9])\n",
    "\n",
    "axis3.set_title('Distribution of Player Assists (2019-22)')\n",
    "\n",
    "axis3.set_xlabel('Player Assists (Total Per Season)')\n",
    "\n",
    "axis3.set_ylabel('Frequency')\n",
    "\n",
    "axis3.hist(df['PLAYER_AST'], bins=20, color='orange', ec='black')\n",
    "\n",
    "plt.show()"
   ]
  },
  {
   "cell_type": "code",
   "execution_count": 9,
   "id": "2217e5d5",
   "metadata": {},
   "outputs": [
    {
     "data": {
      "image/png": "[encoded data removed]",
      "text/plain": [
       "<Figure size 432x288 with 1 Axes>"
      ]
     },
     "metadata": {
      "needs_background": "light"
     },
     "output_type": "display_data"
    }
   ],
   "source": [
    "fig4 = plt.figure(figsize=(6,4))\n",
    "\n",
    "axis4 = fig4.add_axes([0.1,0.1,0.9,0.9])\n",
    "\n",
    "axis4.set_title('Distribution of Player Rebounds (2019-22)')\n",
    "\n",
    "axis4.set_xlabel('Player Rebounds (Total Per Season)')\n",
    "\n",
    "axis4.set_ylabel('Frequency')\n",
    "\n",
    "axis4.hist(df['PLAYER_TREB'], bins=20, color='orange', ec='black')\n",
    "\n",
    "plt.show()"
   ]
  },
  {
   "cell_type": "code",
   "execution_count": 10,
   "id": "342254db",
   "metadata": {},
   "outputs": [
    {
     "data": {
      "image/png": "[encoded data removed]",
      "text/plain": [
       "<Figure size 432x288 with 1 Axes>"
      ]
     },
     "metadata": {
      "needs_background": "light"
     },
     "output_type": "display_data"
    }
   ],
   "source": [
    "fig5 = plt.figure(figsize=(6,4))\n",
    "\n",
    "axis5 = fig5.add_axes([0.1,0.1,0.9,0.9])\n",
    "\n",
    "axis5.set_title('Distribution of Player Steals (2019-22)')\n",
    "\n",
    "axis5.set_xlabel('Player Steals (Total Per Season)')\n",
    "\n",
    "axis5.set_ylabel('Frequency')\n",
    "\n",
    "axis5.hist(df['PLAYER_STL'], bins=20, color='orange', ec='black')\n",
    "\n",
    "plt.show()"
   ]
  },
  {
   "cell_type": "markdown",
   "id": "e6e059ed",
   "metadata": {},
   "source": [
    "Thus, we see that every statistic is right-skewed and follows the pattern of the player minutes. However, we see that, sans outliers, the player minutes has the most *uniform* distribution. Therefore, we will filter by the player minutes.\n",
    "\n",
    "For the filtering, we will only consider train on PERs of players that have played between 400 and 2300 total minutes in a season. This corresponds to roughly 1 standard deviation on the left side, and 2 standard deviations on the right side. Coincidentally, this is enough to make the distribution of player minutes somewhat uniform.\n",
    "\n",
    "We are doing this because we don't want to consider the effects that players who contribute nothing to the team's statistical output have to the PER, as well as players who absolutely carry the teams on their backs."
   ]
  },
  {
   "cell_type": "code",
   "execution_count": 11,
   "id": "2fa11b54",
   "metadata": {},
   "outputs": [
    {
     "data": {
      "text/html": [
       "<div>\n",
       "<style scoped>\n",
       "    .dataframe tbody tr th:only-of-type {\n",
       "        vertical-align: middle;\n",
       "    }\n",
       "\n",
       "    .dataframe tbody tr th {\n",
       "        vertical-align: top;\n",
       "    }\n",
       "\n",
       "    .dataframe thead th {\n",
       "        text-align: right;\n",
       "    }\n",
       "</style>\n",
       "<table border=\"1\" class=\"dataframe\">\n",
       "  <thead>\n",
       "    <tr style=\"text-align: right;\">\n",
       "      <th></th>\n",
       "      <th>PLAYER_NAME</th>\n",
       "      <th>TEAM_HIST</th>\n",
       "      <th>Season</th>\n",
       "      <th>MIN</th>\n",
       "      <th>PLAYER_FGM</th>\n",
       "      <th>PLAYER_FGA</th>\n",
       "      <th>PLAYER_FG3M</th>\n",
       "      <th>PLAYER_FTM</th>\n",
       "      <th>PLAYER_FTA</th>\n",
       "      <th>PLAYER_AST</th>\n",
       "      <th>...</th>\n",
       "      <th>TEAM_PF</th>\n",
       "      <th>TEAM_DREB%</th>\n",
       "      <th>TEAM_PACE</th>\n",
       "      <th>PLAYER_RAW_PER</th>\n",
       "      <th>PLAYER_PACE_CORRECTED_PER</th>\n",
       "      <th>Min * cPER</th>\n",
       "      <th>PLAYER_PER</th>\n",
       "      <th>PLAYER_TREB</th>\n",
       "      <th>PLAYER_FT_MISSED</th>\n",
       "      <th>PLAYER_FG_MISSED</th>\n",
       "    </tr>\n",
       "  </thead>\n",
       "  <tbody>\n",
       "    <tr>\n",
       "      <th>0</th>\n",
       "      <td>Aaron Gordon</td>\n",
       "      <td>2020-21 DEN</td>\n",
       "      <td>2020-21</td>\n",
       "      <td>1383.780000</td>\n",
       "      <td>231</td>\n",
       "      <td>499</td>\n",
       "      <td>59</td>\n",
       "      <td>97</td>\n",
       "      <td>149</td>\n",
       "      <td>161</td>\n",
       "      <td>...</td>\n",
       "      <td>1374</td>\n",
       "      <td>0.751</td>\n",
       "      <td>99.3</td>\n",
       "      <td>0.318304</td>\n",
       "      <td>0.325100</td>\n",
       "      <td>449.866928</td>\n",
       "      <td>14.525479</td>\n",
       "      <td>284</td>\n",
       "      <td>52</td>\n",
       "      <td>268</td>\n",
       "    </tr>\n",
       "    <tr>\n",
       "      <th>1</th>\n",
       "      <td>Aaron Gordon</td>\n",
       "      <td>2021-22 DEN</td>\n",
       "      <td>2021-22</td>\n",
       "      <td>2375.418333</td>\n",
       "      <td>434</td>\n",
       "      <td>834</td>\n",
       "      <td>87</td>\n",
       "      <td>171</td>\n",
       "      <td>230</td>\n",
       "      <td>188</td>\n",
       "      <td>...</td>\n",
       "      <td>1639</td>\n",
       "      <td>0.752</td>\n",
       "      <td>99.9</td>\n",
       "      <td>0.336415</td>\n",
       "      <td>0.338694</td>\n",
       "      <td>804.539445</td>\n",
       "      <td>15.201557</td>\n",
       "      <td>439</td>\n",
       "      <td>59</td>\n",
       "      <td>400</td>\n",
       "    </tr>\n",
       "    <tr>\n",
       "      <th>2</th>\n",
       "      <td>Aaron Gordon</td>\n",
       "      <td>2019-20 ORL</td>\n",
       "      <td>2019-20</td>\n",
       "      <td>2017.143333</td>\n",
       "      <td>335</td>\n",
       "      <td>767</td>\n",
       "      <td>73</td>\n",
       "      <td>151</td>\n",
       "      <td>224</td>\n",
       "      <td>228</td>\n",
       "      <td>...</td>\n",
       "      <td>1336</td>\n",
       "      <td>0.749</td>\n",
       "      <td>100.9</td>\n",
       "      <td>0.329583</td>\n",
       "      <td>0.335397</td>\n",
       "      <td>676.544103</td>\n",
       "      <td>15.232287</td>\n",
       "      <td>475</td>\n",
       "      <td>73</td>\n",
       "      <td>432</td>\n",
       "    </tr>\n",
       "    <tr>\n",
       "      <th>4</th>\n",
       "      <td>Aaron Holiday</td>\n",
       "      <td>2019-20 IND</td>\n",
       "      <td>2019-20</td>\n",
       "      <td>1617.331667</td>\n",
       "      <td>233</td>\n",
       "      <td>563</td>\n",
       "      <td>87</td>\n",
       "      <td>74</td>\n",
       "      <td>87</td>\n",
       "      <td>225</td>\n",
       "      <td>...</td>\n",
       "      <td>1445</td>\n",
       "      <td>0.718</td>\n",
       "      <td>101.3</td>\n",
       "      <td>0.253952</td>\n",
       "      <td>0.257412</td>\n",
       "      <td>416.320241</td>\n",
       "      <td>11.690530</td>\n",
       "      <td>156</td>\n",
       "      <td>13</td>\n",
       "      <td>330</td>\n",
       "    </tr>\n",
       "    <tr>\n",
       "      <th>5</th>\n",
       "      <td>Aaron Holiday</td>\n",
       "      <td>2020-21 IND</td>\n",
       "      <td>2020-21</td>\n",
       "      <td>1176.086667</td>\n",
       "      <td>170</td>\n",
       "      <td>436</td>\n",
       "      <td>67</td>\n",
       "      <td>68</td>\n",
       "      <td>83</td>\n",
       "      <td>123</td>\n",
       "      <td>...</td>\n",
       "      <td>1453</td>\n",
       "      <td>0.701</td>\n",
       "      <td>104.0</td>\n",
       "      <td>0.216318</td>\n",
       "      <td>0.210951</td>\n",
       "      <td>248.097185</td>\n",
       "      <td>9.425317</td>\n",
       "      <td>89</td>\n",
       "      <td>15</td>\n",
       "      <td>266</td>\n",
       "    </tr>\n",
       "    <tr>\n",
       "      <th>...</th>\n",
       "      <td>...</td>\n",
       "      <td>...</td>\n",
       "      <td>...</td>\n",
       "      <td>...</td>\n",
       "      <td>...</td>\n",
       "      <td>...</td>\n",
       "      <td>...</td>\n",
       "      <td>...</td>\n",
       "      <td>...</td>\n",
       "      <td>...</td>\n",
       "      <td>...</td>\n",
       "      <td>...</td>\n",
       "      <td>...</td>\n",
       "      <td>...</td>\n",
       "      <td>...</td>\n",
       "      <td>...</td>\n",
       "      <td>...</td>\n",
       "      <td>...</td>\n",
       "      <td>...</td>\n",
       "      <td>...</td>\n",
       "      <td>...</td>\n",
       "    </tr>\n",
       "    <tr>\n",
       "      <th>1666</th>\n",
       "      <td>Zeke Nnaji</td>\n",
       "      <td>2020-21 DEN</td>\n",
       "      <td>2020-21</td>\n",
       "      <td>397.278333</td>\n",
       "      <td>50</td>\n",
       "      <td>104</td>\n",
       "      <td>24</td>\n",
       "      <td>12</td>\n",
       "      <td>15</td>\n",
       "      <td>10</td>\n",
       "      <td>...</td>\n",
       "      <td>1374</td>\n",
       "      <td>0.751</td>\n",
       "      <td>99.3</td>\n",
       "      <td>0.248150</td>\n",
       "      <td>0.253447</td>\n",
       "      <td>100.689154</td>\n",
       "      <td>11.324036</td>\n",
       "      <td>65</td>\n",
       "      <td>3</td>\n",
       "      <td>54</td>\n",
       "    </tr>\n",
       "    <tr>\n",
       "      <th>1667</th>\n",
       "      <td>Zeke Nnaji</td>\n",
       "      <td>2021-22 DEN</td>\n",
       "      <td>2021-22</td>\n",
       "      <td>697.608333</td>\n",
       "      <td>96</td>\n",
       "      <td>186</td>\n",
       "      <td>37</td>\n",
       "      <td>41</td>\n",
       "      <td>65</td>\n",
       "      <td>17</td>\n",
       "      <td>...</td>\n",
       "      <td>1639</td>\n",
       "      <td>0.752</td>\n",
       "      <td>99.9</td>\n",
       "      <td>0.294725</td>\n",
       "      <td>0.296721</td>\n",
       "      <td>206.995078</td>\n",
       "      <td>13.317699</td>\n",
       "      <td>147</td>\n",
       "      <td>24</td>\n",
       "      <td>90</td>\n",
       "    </tr>\n",
       "    <tr>\n",
       "      <th>1669</th>\n",
       "      <td>Ziaire Williams</td>\n",
       "      <td>2021-22 MEM</td>\n",
       "      <td>2021-22</td>\n",
       "      <td>1346.466667</td>\n",
       "      <td>191</td>\n",
       "      <td>424</td>\n",
       "      <td>76</td>\n",
       "      <td>43</td>\n",
       "      <td>55</td>\n",
       "      <td>65</td>\n",
       "      <td>...</td>\n",
       "      <td>1620</td>\n",
       "      <td>0.726</td>\n",
       "      <td>103.1</td>\n",
       "      <td>0.222252</td>\n",
       "      <td>0.216813</td>\n",
       "      <td>291.931368</td>\n",
       "      <td>9.731191</td>\n",
       "      <td>129</td>\n",
       "      <td>12</td>\n",
       "      <td>233</td>\n",
       "    </tr>\n",
       "    <tr>\n",
       "      <th>1670</th>\n",
       "      <td>Zion Williamson</td>\n",
       "      <td>2019-20 NOP</td>\n",
       "      <td>2019-20</td>\n",
       "      <td>668.141667</td>\n",
       "      <td>210</td>\n",
       "      <td>360</td>\n",
       "      <td>6</td>\n",
       "      <td>114</td>\n",
       "      <td>178</td>\n",
       "      <td>50</td>\n",
       "      <td>...</td>\n",
       "      <td>1524</td>\n",
       "      <td>0.729</td>\n",
       "      <td>106.3</td>\n",
       "      <td>0.538155</td>\n",
       "      <td>0.519828</td>\n",
       "      <td>347.318788</td>\n",
       "      <td>23.608341</td>\n",
       "      <td>150</td>\n",
       "      <td>64</td>\n",
       "      <td>150</td>\n",
       "    </tr>\n",
       "    <tr>\n",
       "      <th>1671</th>\n",
       "      <td>Zion Williamson</td>\n",
       "      <td>2020-21 NOP</td>\n",
       "      <td>2020-21</td>\n",
       "      <td>2025.890000</td>\n",
       "      <td>634</td>\n",
       "      <td>1037</td>\n",
       "      <td>10</td>\n",
       "      <td>369</td>\n",
       "      <td>529</td>\n",
       "      <td>226</td>\n",
       "      <td>...</td>\n",
       "      <td>1295</td>\n",
       "      <td>0.755</td>\n",
       "      <td>102.3</td>\n",
       "      <td>0.599331</td>\n",
       "      <td>0.594175</td>\n",
       "      <td>1203.733969</td>\n",
       "      <td>26.547773</td>\n",
       "      <td>441</td>\n",
       "      <td>160</td>\n",
       "      <td>403</td>\n",
       "    </tr>\n",
       "  </tbody>\n",
       "</table>\n",
       "<p>1258 rows × 34 columns</p>\n",
       "</div>"
      ],
      "text/plain": [
       "          PLAYER_NAME    TEAM_HIST   Season          MIN  PLAYER_FGM  \\\n",
       "0        Aaron Gordon  2020-21 DEN  2020-21  1383.780000         231   \n",
       "1        Aaron Gordon  2021-22 DEN  2021-22  2375.418333         434   \n",
       "2        Aaron Gordon  2019-20 ORL  2019-20  2017.143333         335   \n",
       "4       Aaron Holiday  2019-20 IND  2019-20  1617.331667         233   \n",
       "5       Aaron Holiday  2020-21 IND  2020-21  1176.086667         170   \n",
       "...               ...          ...      ...          ...         ...   \n",
       "1666       Zeke Nnaji  2020-21 DEN  2020-21   397.278333          50   \n",
       "1667       Zeke Nnaji  2021-22 DEN  2021-22   697.608333          96   \n",
       "1669  Ziaire Williams  2021-22 MEM  2021-22  1346.466667         191   \n",
       "1670  Zion Williamson  2019-20 NOP  2019-20   668.141667         210   \n",
       "1671  Zion Williamson  2020-21 NOP  2020-21  2025.890000         634   \n",
       "\n",
       "      PLAYER_FGA  PLAYER_FG3M  PLAYER_FTM  PLAYER_FTA  PLAYER_AST  ...  \\\n",
       "0            499           59          97         149         161  ...   \n",
       "1            834           87         171         230         188  ...   \n",
       "2            767           73         151         224         228  ...   \n",
       "4            563           87          74          87         225  ...   \n",
       "5            436           67          68          83         123  ...   \n",
       "...          ...          ...         ...         ...         ...  ...   \n",
       "1666         104           24          12          15          10  ...   \n",
       "1667         186           37          41          65          17  ...   \n",
       "1669         424           76          43          55          65  ...   \n",
       "1670         360            6         114         178          50  ...   \n",
       "1671        1037           10         369         529         226  ...   \n",
       "\n",
       "      TEAM_PF  TEAM_DREB%  TEAM_PACE  PLAYER_RAW_PER  \\\n",
       "0        1374       0.751       99.3        0.318304   \n",
       "1        1639       0.752       99.9        0.336415   \n",
       "2        1336       0.749      100.9        0.329583   \n",
       "4        1445       0.718      101.3        0.253952   \n",
       "5        1453       0.701      104.0        0.216318   \n",
       "...       ...         ...        ...             ...   \n",
       "1666     1374       0.751       99.3        0.248150   \n",
       "1667     1639       0.752       99.9        0.294725   \n",
       "1669     1620       0.726      103.1        0.222252   \n",
       "1670     1524       0.729      106.3        0.538155   \n",
       "1671     1295       0.755      102.3        0.599331   \n",
       "\n",
       "      PLAYER_PACE_CORRECTED_PER   Min * cPER  PLAYER_PER  PLAYER_TREB  \\\n",
       "0                      0.325100   449.866928   14.525479          284   \n",
       "1                      0.338694   804.539445   15.201557          439   \n",
       "2                      0.335397   676.544103   15.232287          475   \n",
       "4                      0.257412   416.320241   11.690530          156   \n",
       "5                      0.210951   248.097185    9.425317           89   \n",
       "...                         ...          ...         ...          ...   \n",
       "1666                   0.253447   100.689154   11.324036           65   \n",
       "1667                   0.296721   206.995078   13.317699          147   \n",
       "1669                   0.216813   291.931368    9.731191          129   \n",
       "1670                   0.519828   347.318788   23.608341          150   \n",
       "1671                   0.594175  1203.733969   26.547773          441   \n",
       "\n",
       "      PLAYER_FT_MISSED  PLAYER_FG_MISSED  \n",
       "0                   52               268  \n",
       "1                   59               400  \n",
       "2                   73               432  \n",
       "4                   13               330  \n",
       "5                   15               266  \n",
       "...                ...               ...  \n",
       "1666                 3                54  \n",
       "1667                24                90  \n",
       "1669                12               233  \n",
       "1670                64               150  \n",
       "1671               160               403  \n",
       "\n",
       "[1258 rows x 34 columns]"
      ]
     },
     "execution_count": 11,
     "metadata": {},
     "output_type": "execute_result"
    }
   ],
   "source": [
    "df_train = df.loc[(df['MIN'] >= 200) & (df['MIN'] <= 2400)]\n",
    "\n",
    "df_train"
   ]
  },
  {
   "cell_type": "markdown",
   "id": "6e866cf8",
   "metadata": {},
   "source": [
    "### Pick Features\n",
    "\n",
    "We will need to pick features that we will include in our model. Our choice is clearly stated at the beginning, we want to see if we can use ONLY player statistics to compute the PER within reasonable error. \n",
    "\n",
    "Therefore, we only pick player statistics that can be computed directly from a box score, **without** advanced statistics, team statistics, league-wide statistics."
   ]
  },
  {
   "cell_type": "code",
   "execution_count": 12,
   "id": "bddba7b2",
   "metadata": {},
   "outputs": [
    {
     "data": {
      "text/plain": [
       "Index(['PLAYER_NAME', 'TEAM_HIST', 'Season', 'MIN', 'PLAYER_FGM', 'PLAYER_FGA',\n",
       "       'PLAYER_FG3M', 'PLAYER_FTM', 'PLAYER_FTA', 'PLAYER_AST', 'PLAYER_TOV',\n",
       "       'PLAYER_OREB', 'PLAYER_DREB', 'PLAYER_STL', 'PLAYER_BLK', 'PLAYER_PF',\n",
       "       'TEAM_FGM', 'TEAM_AST', 'TEAM_FGA', 'TEAM_FTM', 'TEAM_FTA', 'TEAM_PTS',\n",
       "       'TEAM_OREB', 'TEAM_TOV', 'TEAM_PF', 'TEAM_DREB%', 'TEAM_PACE',\n",
       "       'PLAYER_RAW_PER', 'PLAYER_PACE_CORRECTED_PER', 'Min * cPER',\n",
       "       'PLAYER_PER', 'PLAYER_TREB', 'PLAYER_FT_MISSED', 'PLAYER_FG_MISSED'],\n",
       "      dtype='object')"
      ]
     },
     "execution_count": 12,
     "metadata": {},
     "output_type": "execute_result"
    }
   ],
   "source": [
    "df.columns"
   ]
  },
  {
   "cell_type": "code",
   "execution_count": 13,
   "id": "9596144f",
   "metadata": {},
   "outputs": [],
   "source": [
    "li_features = ['PLAYER_FGM', 'PLAYER_FG_MISSED', 'PLAYER_FT_MISSED',\n",
    "               'PLAYER_FG3M', 'PLAYER_FTM', 'PLAYER_AST', 'PLAYER_TOV',\n",
    "               'PLAYER_OREB', 'PLAYER_DREB', 'PLAYER_STL', 'PLAYER_BLK', 'PLAYER_PF']\n",
    "\n",
    "li_label = ['PLAYER_PER']"
   ]
  },
  {
   "cell_type": "code",
   "execution_count": 14,
   "id": "4efdcb62",
   "metadata": {},
   "outputs": [],
   "source": [
    "X = df_train[li_features]\n",
    "\n",
    "y = df_train[li_label]"
   ]
  },
  {
   "cell_type": "code",
   "execution_count": 15,
   "id": "831c5ccf",
   "metadata": {},
   "outputs": [
    {
     "data": {
      "text/plain": [
       "(1258, 12)"
      ]
     },
     "execution_count": 15,
     "metadata": {},
     "output_type": "execute_result"
    }
   ],
   "source": [
    "X.shape"
   ]
  },
  {
   "cell_type": "code",
   "execution_count": 16,
   "id": "ee06595f",
   "metadata": {},
   "outputs": [
    {
     "data": {
      "text/plain": [
       "(1258, 1)"
      ]
     },
     "execution_count": 16,
     "metadata": {},
     "output_type": "execute_result"
    }
   ],
   "source": [
    "y.shape"
   ]
  },
  {
   "cell_type": "markdown",
   "id": "bab3ce41",
   "metadata": {},
   "source": [
    "## Model Selection\n",
    "\n",
    "Let us check if a linear model is appropriate here.\n",
    "\n",
    "### 1. Linear Relationship"
   ]
  },
  {
   "cell_type": "code",
   "execution_count": 17,
   "id": "8f6bc3b6",
   "metadata": {},
   "outputs": [
    {
     "data": {
      "text/plain": [
       "<matplotlib.collections.PathCollection at 0x2487f87fee0>"
      ]
     },
     "execution_count": 17,
     "metadata": {},
     "output_type": "execute_result"
    },
    {
     "data": {
      "image/png": "[encoded data removed]",
      "text/plain": [
       "<Figure size 432x288 with 1 Axes>"
      ]
     },
     "metadata": {
      "needs_background": "light"
     },
     "output_type": "display_data"
    }
   ],
   "source": [
    "plt.scatter(np.power(X['PLAYER_FGM'], 1/3), y['PLAYER_PER'])\n"
   ]
  },
  {
   "cell_type": "code",
   "execution_count": 18,
   "id": "ec0980ad",
   "metadata": {},
   "outputs": [
    {
     "data": {
      "text/plain": [
       "<matplotlib.collections.PathCollection at 0x2487f8f2f70>"
      ]
     },
     "execution_count": 18,
     "metadata": {},
     "output_type": "execute_result"
    },
    {
     "data": {
      "image/png": "[encoded data removed]",
      "text/plain": [
       "<Figure size 432x288 with 1 Axes>"
      ]
     },
     "metadata": {
      "needs_background": "light"
     },
     "output_type": "display_data"
    }
   ],
   "source": [
    "plt.scatter(np.power(X['PLAYER_FG_MISSED'], 1/3), y['PLAYER_PER'])"
   ]
  },
  {
   "cell_type": "code",
   "execution_count": 19,
   "id": "b8411b3b",
   "metadata": {},
   "outputs": [
    {
     "data": {
      "text/plain": [
       "<matplotlib.collections.PathCollection at 0x2487f966220>"
      ]
     },
     "execution_count": 19,
     "metadata": {},
     "output_type": "execute_result"
    },
    {
     "data": {
      "image/png": "[encoded data removed]",
      "text/plain": [
       "<Figure size 432x288 with 1 Axes>"
      ]
     },
     "metadata": {
      "needs_background": "light"
     },
     "output_type": "display_data"
    }
   ],
   "source": [
    "plt.scatter(np.power(X['PLAYER_TOV'], 1/3), y['PLAYER_PER'])\n"
   ]
  },
  {
   "cell_type": "code",
   "execution_count": 20,
   "id": "e470f595",
   "metadata": {},
   "outputs": [
    {
     "data": {
      "text/plain": [
       "<matplotlib.collections.PathCollection at 0x2487f9c3ca0>"
      ]
     },
     "execution_count": 20,
     "metadata": {},
     "output_type": "execute_result"
    },
    {
     "data": {
      "image/png": "[encoded data removed]",
      "text/plain": [
       "<Figure size 432x288 with 1 Axes>"
      ]
     },
     "metadata": {
      "needs_background": "light"
     },
     "output_type": "display_data"
    }
   ],
   "source": [
    "plt.scatter(np.power(X['PLAYER_FTM'], 1/3), y['PLAYER_PER'])\n"
   ]
  },
  {
   "cell_type": "code",
   "execution_count": 21,
   "id": "247a2b1b",
   "metadata": {},
   "outputs": [
    {
     "data": {
      "text/plain": [
       "<matplotlib.collections.PathCollection at 0x2487fa26bb0>"
      ]
     },
     "execution_count": 21,
     "metadata": {},
     "output_type": "execute_result"
    },
    {
     "data": {
      "image/png": "[encoded data removed]",
      "text/plain": [
       "<Figure size 432x288 with 1 Axes>"
      ]
     },
     "metadata": {
      "needs_background": "light"
     },
     "output_type": "display_data"
    }
   ],
   "source": [
    "plt.scatter(np.power(X['PLAYER_FT_MISSED'], 1/1.75), y['PLAYER_PER'])\n"
   ]
  },
  {
   "cell_type": "code",
   "execution_count": 22,
   "id": "b5b0dc9b",
   "metadata": {},
   "outputs": [
    {
     "data": {
      "text/plain": [
       "<matplotlib.collections.PathCollection at 0x2487fa879a0>"
      ]
     },
     "execution_count": 22,
     "metadata": {},
     "output_type": "execute_result"
    },
    {
     "data": {
      "image/png": "[encoded data removed]",
      "text/plain": [
       "<Figure size 432x288 with 1 Axes>"
      ]
     },
     "metadata": {
      "needs_background": "light"
     },
     "output_type": "display_data"
    }
   ],
   "source": [
    "plt.scatter(np.power(X['PLAYER_FG3M'], 1/1.75), y['PLAYER_PER'])\n"
   ]
  },
  {
   "cell_type": "code",
   "execution_count": 23,
   "id": "33e545cc",
   "metadata": {},
   "outputs": [
    {
     "data": {
      "text/plain": [
       "<matplotlib.collections.PathCollection at 0x2487fae9f10>"
      ]
     },
     "execution_count": 23,
     "metadata": {},
     "output_type": "execute_result"
    },
    {
     "data": {
      "image/png": "[encoded data removed]",
      "text/plain": [
       "<Figure size 432x288 with 1 Axes>"
      ]
     },
     "metadata": {
      "needs_background": "light"
     },
     "output_type": "display_data"
    }
   ],
   "source": [
    "plt.scatter(np.power(X['PLAYER_AST'], 1/3), y['PLAYER_PER'])\n"
   ]
  },
  {
   "cell_type": "code",
   "execution_count": 24,
   "id": "df4d8690",
   "metadata": {},
   "outputs": [
    {
     "data": {
      "text/plain": [
       "<matplotlib.collections.PathCollection at 0x2487fb5d490>"
      ]
     },
     "execution_count": 24,
     "metadata": {},
     "output_type": "execute_result"
    },
    {
     "data": {
      "image/png": "[encoded data removed]",
      "text/plain": [
       "<Figure size 432x288 with 1 Axes>"
      ]
     },
     "metadata": {
      "needs_background": "light"
     },
     "output_type": "display_data"
    }
   ],
   "source": [
    "plt.scatter(np.power(X['PLAYER_OREB'], 1/3), y['PLAYER_PER'])\n"
   ]
  },
  {
   "cell_type": "code",
   "execution_count": 25,
   "id": "7d75030e",
   "metadata": {},
   "outputs": [
    {
     "data": {
      "text/plain": [
       "<matplotlib.collections.PathCollection at 0x2487fbbbf40>"
      ]
     },
     "execution_count": 25,
     "metadata": {},
     "output_type": "execute_result"
    },
    {
     "data": {
      "image/png": "[encoded data removed]",
      "text/plain": [
       "<Figure size 432x288 with 1 Axes>"
      ]
     },
     "metadata": {
      "needs_background": "light"
     },
     "output_type": "display_data"
    }
   ],
   "source": [
    "plt.scatter(np.power(X['PLAYER_DREB'], 1/3), y['PLAYER_PER'])\n"
   ]
  },
  {
   "cell_type": "code",
   "execution_count": 26,
   "id": "f05af2b5",
   "metadata": {},
   "outputs": [
    {
     "data": {
      "text/plain": [
       "<matplotlib.collections.PathCollection at 0x2487fc27ee0>"
      ]
     },
     "execution_count": 26,
     "metadata": {},
     "output_type": "execute_result"
    },
    {
     "data": {
      "image/png": "[encoded data removed]",
      "text/plain": [
       "<Figure size 432x288 with 1 Axes>"
      ]
     },
     "metadata": {
      "needs_background": "light"
     },
     "output_type": "display_data"
    }
   ],
   "source": [
    "plt.scatter(np.power(X['PLAYER_STL'], 1/2), y['PLAYER_PER'])\n"
   ]
  },
  {
   "cell_type": "code",
   "execution_count": 27,
   "id": "498dd06e",
   "metadata": {},
   "outputs": [
    {
     "data": {
      "text/plain": [
       "<matplotlib.collections.PathCollection at 0x2487fc96460>"
      ]
     },
     "execution_count": 27,
     "metadata": {},
     "output_type": "execute_result"
    },
    {
     "data": {
      "image/png": "[encoded data removed]",
      "text/plain": [
       "<Figure size 432x288 with 1 Axes>"
      ]
     },
     "metadata": {
      "needs_background": "light"
     },
     "output_type": "display_data"
    }
   ],
   "source": [
    "plt.scatter(np.power(X['PLAYER_BLK'], 1/3), y['PLAYER_PER'])\n"
   ]
  },
  {
   "cell_type": "code",
   "execution_count": 28,
   "id": "1e1dff4a",
   "metadata": {},
   "outputs": [
    {
     "data": {
      "text/plain": [
       "<matplotlib.collections.PathCollection at 0x2487fd02b50>"
      ]
     },
     "execution_count": 28,
     "metadata": {},
     "output_type": "execute_result"
    },
    {
     "data": {
      "image/png": "[encoded data removed]",
      "text/plain": [
       "<Figure size 432x288 with 1 Axes>"
      ]
     },
     "metadata": {
      "needs_background": "light"
     },
     "output_type": "display_data"
    }
   ],
   "source": [
    "plt.scatter(np.power(X['PLAYER_PF'], 1/3), y['PLAYER_PER'])\n"
   ]
  },
  {
   "cell_type": "markdown",
   "id": "43051b2e",
   "metadata": {},
   "source": [
    "After going through all 12 features we picked, we see that, with the necessary transformations, all of these are somewhat linear. In my personal opinion, it is linear enough to justify using a linear model and seeing what occurs.\n",
    "\n",
    "### 2. Collinearity\n",
    "\n",
    "We check if the variables are correlated strongly at all. If so, then we should probably exclude the features that are correlated strongly."
   ]
  },
  {
   "cell_type": "code",
   "execution_count": 29,
   "id": "cbdd64e5",
   "metadata": {},
   "outputs": [
    {
     "data": {
      "text/html": [
       "<div>\n",
       "<style scoped>\n",
       "    .dataframe tbody tr th:only-of-type {\n",
       "        vertical-align: middle;\n",
       "    }\n",
       "\n",
       "    .dataframe tbody tr th {\n",
       "        vertical-align: top;\n",
       "    }\n",
       "\n",
       "    .dataframe thead th {\n",
       "        text-align: right;\n",
       "    }\n",
       "</style>\n",
       "<table border=\"1\" class=\"dataframe\">\n",
       "  <thead>\n",
       "    <tr style=\"text-align: right;\">\n",
       "      <th></th>\n",
       "      <th>PLAYER_FGM</th>\n",
       "      <th>PLAYER_FG_MISSED</th>\n",
       "      <th>PLAYER_FT_MISSED</th>\n",
       "      <th>PLAYER_FG3M</th>\n",
       "      <th>PLAYER_FTM</th>\n",
       "      <th>PLAYER_AST</th>\n",
       "      <th>PLAYER_TOV</th>\n",
       "      <th>PLAYER_OREB</th>\n",
       "      <th>PLAYER_DREB</th>\n",
       "      <th>PLAYER_STL</th>\n",
       "      <th>PLAYER_BLK</th>\n",
       "      <th>PLAYER_PF</th>\n",
       "    </tr>\n",
       "  </thead>\n",
       "  <tbody>\n",
       "    <tr>\n",
       "      <th>PLAYER_FGM</th>\n",
       "      <td>1.000000</td>\n",
       "      <td>0.924721</td>\n",
       "      <td>0.678253</td>\n",
       "      <td>0.654696</td>\n",
       "      <td>0.854169</td>\n",
       "      <td>0.719869</td>\n",
       "      <td>0.873405</td>\n",
       "      <td>0.411271</td>\n",
       "      <td>0.747495</td>\n",
       "      <td>0.673913</td>\n",
       "      <td>0.389929</td>\n",
       "      <td>0.683532</td>\n",
       "    </tr>\n",
       "    <tr>\n",
       "      <th>PLAYER_FG_MISSED</th>\n",
       "      <td>0.924721</td>\n",
       "      <td>1.000000</td>\n",
       "      <td>0.505800</td>\n",
       "      <td>0.810638</td>\n",
       "      <td>0.782593</td>\n",
       "      <td>0.744055</td>\n",
       "      <td>0.844703</td>\n",
       "      <td>0.152763</td>\n",
       "      <td>0.585613</td>\n",
       "      <td>0.683059</td>\n",
       "      <td>0.191885</td>\n",
       "      <td>0.593107</td>\n",
       "    </tr>\n",
       "    <tr>\n",
       "      <th>PLAYER_FT_MISSED</th>\n",
       "      <td>0.678253</td>\n",
       "      <td>0.505800</td>\n",
       "      <td>1.000000</td>\n",
       "      <td>0.121692</td>\n",
       "      <td>0.748167</td>\n",
       "      <td>0.477030</td>\n",
       "      <td>0.687038</td>\n",
       "      <td>0.618379</td>\n",
       "      <td>0.717620</td>\n",
       "      <td>0.436697</td>\n",
       "      <td>0.526927</td>\n",
       "      <td>0.562082</td>\n",
       "    </tr>\n",
       "    <tr>\n",
       "      <th>PLAYER_FG3M</th>\n",
       "      <td>0.654696</td>\n",
       "      <td>0.810638</td>\n",
       "      <td>0.121692</td>\n",
       "      <td>1.000000</td>\n",
       "      <td>0.455568</td>\n",
       "      <td>0.503184</td>\n",
       "      <td>0.535810</td>\n",
       "      <td>-0.144487</td>\n",
       "      <td>0.315550</td>\n",
       "      <td>0.504720</td>\n",
       "      <td>-0.014660</td>\n",
       "      <td>0.407808</td>\n",
       "    </tr>\n",
       "    <tr>\n",
       "      <th>PLAYER_FTM</th>\n",
       "      <td>0.854169</td>\n",
       "      <td>0.782593</td>\n",
       "      <td>0.748167</td>\n",
       "      <td>0.455568</td>\n",
       "      <td>1.000000</td>\n",
       "      <td>0.673193</td>\n",
       "      <td>0.826839</td>\n",
       "      <td>0.343894</td>\n",
       "      <td>0.642743</td>\n",
       "      <td>0.540848</td>\n",
       "      <td>0.341082</td>\n",
       "      <td>0.544432</td>\n",
       "    </tr>\n",
       "    <tr>\n",
       "      <th>PLAYER_AST</th>\n",
       "      <td>0.719869</td>\n",
       "      <td>0.744055</td>\n",
       "      <td>0.477030</td>\n",
       "      <td>0.503184</td>\n",
       "      <td>0.673193</td>\n",
       "      <td>1.000000</td>\n",
       "      <td>0.863681</td>\n",
       "      <td>0.113159</td>\n",
       "      <td>0.485421</td>\n",
       "      <td>0.705449</td>\n",
       "      <td>0.083930</td>\n",
       "      <td>0.456893</td>\n",
       "    </tr>\n",
       "    <tr>\n",
       "      <th>PLAYER_TOV</th>\n",
       "      <td>0.873405</td>\n",
       "      <td>0.844703</td>\n",
       "      <td>0.687038</td>\n",
       "      <td>0.535810</td>\n",
       "      <td>0.826839</td>\n",
       "      <td>0.863681</td>\n",
       "      <td>1.000000</td>\n",
       "      <td>0.332575</td>\n",
       "      <td>0.682279</td>\n",
       "      <td>0.687989</td>\n",
       "      <td>0.295312</td>\n",
       "      <td>0.636372</td>\n",
       "    </tr>\n",
       "    <tr>\n",
       "      <th>PLAYER_OREB</th>\n",
       "      <td>0.411271</td>\n",
       "      <td>0.152763</td>\n",
       "      <td>0.618379</td>\n",
       "      <td>-0.144487</td>\n",
       "      <td>0.343894</td>\n",
       "      <td>0.113159</td>\n",
       "      <td>0.332575</td>\n",
       "      <td>1.000000</td>\n",
       "      <td>0.744151</td>\n",
       "      <td>0.279488</td>\n",
       "      <td>0.728146</td>\n",
       "      <td>0.597143</td>\n",
       "    </tr>\n",
       "    <tr>\n",
       "      <th>PLAYER_DREB</th>\n",
       "      <td>0.747495</td>\n",
       "      <td>0.585613</td>\n",
       "      <td>0.717620</td>\n",
       "      <td>0.315550</td>\n",
       "      <td>0.642743</td>\n",
       "      <td>0.485421</td>\n",
       "      <td>0.682279</td>\n",
       "      <td>0.744151</td>\n",
       "      <td>1.000000</td>\n",
       "      <td>0.560948</td>\n",
       "      <td>0.655498</td>\n",
       "      <td>0.739120</td>\n",
       "    </tr>\n",
       "    <tr>\n",
       "      <th>PLAYER_STL</th>\n",
       "      <td>0.673913</td>\n",
       "      <td>0.683059</td>\n",
       "      <td>0.436697</td>\n",
       "      <td>0.504720</td>\n",
       "      <td>0.540848</td>\n",
       "      <td>0.705449</td>\n",
       "      <td>0.687989</td>\n",
       "      <td>0.279488</td>\n",
       "      <td>0.560948</td>\n",
       "      <td>1.000000</td>\n",
       "      <td>0.307823</td>\n",
       "      <td>0.653930</td>\n",
       "    </tr>\n",
       "    <tr>\n",
       "      <th>PLAYER_BLK</th>\n",
       "      <td>0.389929</td>\n",
       "      <td>0.191885</td>\n",
       "      <td>0.526927</td>\n",
       "      <td>-0.014660</td>\n",
       "      <td>0.341082</td>\n",
       "      <td>0.083930</td>\n",
       "      <td>0.295312</td>\n",
       "      <td>0.728146</td>\n",
       "      <td>0.655498</td>\n",
       "      <td>0.307823</td>\n",
       "      <td>1.000000</td>\n",
       "      <td>0.594671</td>\n",
       "    </tr>\n",
       "    <tr>\n",
       "      <th>PLAYER_PF</th>\n",
       "      <td>0.683532</td>\n",
       "      <td>0.593107</td>\n",
       "      <td>0.562082</td>\n",
       "      <td>0.407808</td>\n",
       "      <td>0.544432</td>\n",
       "      <td>0.456893</td>\n",
       "      <td>0.636372</td>\n",
       "      <td>0.597143</td>\n",
       "      <td>0.739120</td>\n",
       "      <td>0.653930</td>\n",
       "      <td>0.594671</td>\n",
       "      <td>1.000000</td>\n",
       "    </tr>\n",
       "  </tbody>\n",
       "</table>\n",
       "</div>"
      ],
      "text/plain": [
       "                  PLAYER_FGM  PLAYER_FG_MISSED  PLAYER_FT_MISSED  PLAYER_FG3M  \\\n",
       "PLAYER_FGM          1.000000          0.924721          0.678253     0.654696   \n",
       "PLAYER_FG_MISSED    0.924721          1.000000          0.505800     0.810638   \n",
       "PLAYER_FT_MISSED    0.678253          0.505800          1.000000     0.121692   \n",
       "PLAYER_FG3M         0.654696          0.810638          0.121692     1.000000   \n",
       "PLAYER_FTM          0.854169          0.782593          0.748167     0.455568   \n",
       "PLAYER_AST          0.719869          0.744055          0.477030     0.503184   \n",
       "PLAYER_TOV          0.873405          0.844703          0.687038     0.535810   \n",
       "PLAYER_OREB         0.411271          0.152763          0.618379    -0.144487   \n",
       "PLAYER_DREB         0.747495          0.585613          0.717620     0.315550   \n",
       "PLAYER_STL          0.673913          0.683059          0.436697     0.504720   \n",
       "PLAYER_BLK          0.389929          0.191885          0.526927    -0.014660   \n",
       "PLAYER_PF           0.683532          0.593107          0.562082     0.407808   \n",
       "\n",
       "                  PLAYER_FTM  PLAYER_AST  PLAYER_TOV  PLAYER_OREB  \\\n",
       "PLAYER_FGM          0.854169    0.719869    0.873405     0.411271   \n",
       "PLAYER_FG_MISSED    0.782593    0.744055    0.844703     0.152763   \n",
       "PLAYER_FT_MISSED    0.748167    0.477030    0.687038     0.618379   \n",
       "PLAYER_FG3M         0.455568    0.503184    0.535810    -0.144487   \n",
       "PLAYER_FTM          1.000000    0.673193    0.826839     0.343894   \n",
       "PLAYER_AST          0.673193    1.000000    0.863681     0.113159   \n",
       "PLAYER_TOV          0.826839    0.863681    1.000000     0.332575   \n",
       "PLAYER_OREB         0.343894    0.113159    0.332575     1.000000   \n",
       "PLAYER_DREB         0.642743    0.485421    0.682279     0.744151   \n",
       "PLAYER_STL          0.540848    0.705449    0.687989     0.279488   \n",
       "PLAYER_BLK          0.341082    0.083930    0.295312     0.728146   \n",
       "PLAYER_PF           0.544432    0.456893    0.636372     0.597143   \n",
       "\n",
       "                  PLAYER_DREB  PLAYER_STL  PLAYER_BLK  PLAYER_PF  \n",
       "PLAYER_FGM           0.747495    0.673913    0.389929   0.683532  \n",
       "PLAYER_FG_MISSED     0.585613    0.683059    0.191885   0.593107  \n",
       "PLAYER_FT_MISSED     0.717620    0.436697    0.526927   0.562082  \n",
       "PLAYER_FG3M          0.315550    0.504720   -0.014660   0.407808  \n",
       "PLAYER_FTM           0.642743    0.540848    0.341082   0.544432  \n",
       "PLAYER_AST           0.485421    0.705449    0.083930   0.456893  \n",
       "PLAYER_TOV           0.682279    0.687989    0.295312   0.636372  \n",
       "PLAYER_OREB          0.744151    0.279488    0.728146   0.597143  \n",
       "PLAYER_DREB          1.000000    0.560948    0.655498   0.739120  \n",
       "PLAYER_STL           0.560948    1.000000    0.307823   0.653930  \n",
       "PLAYER_BLK           0.655498    0.307823    1.000000   0.594671  \n",
       "PLAYER_PF            0.739120    0.653930    0.594671   1.000000  "
      ]
     },
     "execution_count": 29,
     "metadata": {},
     "output_type": "execute_result"
    }
   ],
   "source": [
    "X.corr()"
   ]
  },
  {
   "cell_type": "markdown",
   "id": "5ff7256c",
   "metadata": {},
   "source": [
    "We recognize that a few features are correlated rather strongly, but these are obvious correlations that we will ignore because we see these as necessary features to capture the full nuance of the player efficiency rating (all makes should be accompanied by misses to reflect a player's field goal percentage, an important aspect of efficiency).\n",
    "\n",
    "### 3. Homoscedascity\n",
    "\n",
    "We should do a more formal test for this, however, the above plots, with the necessary non-linear transformations, allow us to attain plots in which the residuals do not have a predictable \"cone-like\" shape. There may be a deeper pattern here in which heteroscedascity is attained, but we will assume it is not an issue for now.\n",
    "\n",
    "Our conclusion is that a **linear model is likely appropriate for use here**.\n",
    "\n",
    "## Building and Training a Model\n",
    "\n",
    "We can use sklearn's models in order to train our models, however, we will opt to implement our own model and training loop.\n",
    "\n",
    "### Apply non-linear transformations to data\n",
    "\n",
    "As discussed above, our model will be of the form:\n",
    "\n",
    "$$\\hat{y} = w_{1}x_{FGM}^{1/3} + w_{2}x_{FG\\;MISSED}^{1/3} + w_{3}x_{TOV}^{1/3} + w_{4}x_{FTM}^{1/3} + w_{5}x_{FT\\;MISSED}^{1/1.75} + w_{6}x_{3PM}^{1/1.75} + w_{7}x_{AST}^{1/3} + w_{8}x_{OREB}^{1/3} + w_{9}x_{DREB}^{1/3} + w_{10}x_{STL}^{1/2} + w_{11}x_{BLK}^{1/3} + w_{12}x_{PF}^{1/3}$$\n",
    "\n",
    "However, since we applied non-linear transformations to our data, we will **apply the non-linear transformations before we input the data into the model**. We will **incorporate the non-linear transformations into the preprocessing steps.**"
   ]
  },
  {
   "cell_type": "code",
   "execution_count": 30,
   "id": "f17ebd51",
   "metadata": {},
   "outputs": [
    {
     "name": "stderr",
     "output_type": "stream",
     "text": [
      "C:\\Users\\Chang\\AppData\\Local\\Temp\\ipykernel_28940\\703270180.py:1: SettingWithCopyWarning: \n",
      "A value is trying to be set on a copy of a slice from a DataFrame.\n",
      "Try using .loc[row_indexer,col_indexer] = value instead\n",
      "\n",
      "See the caveats in the documentation: https://pandas.pydata.org/pandas-docs/stable/user_guide/indexing.html#returning-a-view-versus-a-copy\n",
      "  X['PLAYER_FGM'] = np.power(X['PLAYER_FGM'], 1/3)\n",
      "C:\\Users\\Chang\\AppData\\Local\\Temp\\ipykernel_28940\\703270180.py:3: SettingWithCopyWarning: \n",
      "A value is trying to be set on a copy of a slice from a DataFrame.\n",
      "Try using .loc[row_indexer,col_indexer] = value instead\n",
      "\n",
      "See the caveats in the documentation: https://pandas.pydata.org/pandas-docs/stable/user_guide/indexing.html#returning-a-view-versus-a-copy\n",
      "  X['PLAYER_FG_MISSED'] = np.power(X['PLAYER_FG_MISSED'], 1/3)\n",
      "C:\\Users\\Chang\\AppData\\Local\\Temp\\ipykernel_28940\\703270180.py:5: SettingWithCopyWarning: \n",
      "A value is trying to be set on a copy of a slice from a DataFrame.\n",
      "Try using .loc[row_indexer,col_indexer] = value instead\n",
      "\n",
      "See the caveats in the documentation: https://pandas.pydata.org/pandas-docs/stable/user_guide/indexing.html#returning-a-view-versus-a-copy\n",
      "  X['PLAYER_TOV'] = np.power(X['PLAYER_TOV'], 1/3)\n",
      "C:\\Users\\Chang\\AppData\\Local\\Temp\\ipykernel_28940\\703270180.py:7: SettingWithCopyWarning: \n",
      "A value is trying to be set on a copy of a slice from a DataFrame.\n",
      "Try using .loc[row_indexer,col_indexer] = value instead\n",
      "\n",
      "See the caveats in the documentation: https://pandas.pydata.org/pandas-docs/stable/user_guide/indexing.html#returning-a-view-versus-a-copy\n",
      "  X['PLAYER_FTM'] = np.power(X['PLAYER_FTM'], 1/3)\n",
      "C:\\Users\\Chang\\AppData\\Local\\Temp\\ipykernel_28940\\703270180.py:9: SettingWithCopyWarning: \n",
      "A value is trying to be set on a copy of a slice from a DataFrame.\n",
      "Try using .loc[row_indexer,col_indexer] = value instead\n",
      "\n",
      "See the caveats in the documentation: https://pandas.pydata.org/pandas-docs/stable/user_guide/indexing.html#returning-a-view-versus-a-copy\n",
      "  X['PLAYER_FT_MISSED'] = np.power(X['PLAYER_FT_MISSED'], 1/1.75)\n",
      "C:\\Users\\Chang\\AppData\\Local\\Temp\\ipykernel_28940\\703270180.py:11: SettingWithCopyWarning: \n",
      "A value is trying to be set on a copy of a slice from a DataFrame.\n",
      "Try using .loc[row_indexer,col_indexer] = value instead\n",
      "\n",
      "See the caveats in the documentation: https://pandas.pydata.org/pandas-docs/stable/user_guide/indexing.html#returning-a-view-versus-a-copy\n",
      "  X['PLAYER_FG3M'] = np.power(X['PLAYER_FG3M'], 1/1.75)\n",
      "C:\\Users\\Chang\\AppData\\Local\\Temp\\ipykernel_28940\\703270180.py:13: SettingWithCopyWarning: \n",
      "A value is trying to be set on a copy of a slice from a DataFrame.\n",
      "Try using .loc[row_indexer,col_indexer] = value instead\n",
      "\n",
      "See the caveats in the documentation: https://pandas.pydata.org/pandas-docs/stable/user_guide/indexing.html#returning-a-view-versus-a-copy\n",
      "  X['PLAYER_AST'] = np.power(X['PLAYER_AST'], 1/3)\n",
      "C:\\Users\\Chang\\AppData\\Local\\Temp\\ipykernel_28940\\703270180.py:15: SettingWithCopyWarning: \n",
      "A value is trying to be set on a copy of a slice from a DataFrame.\n",
      "Try using .loc[row_indexer,col_indexer] = value instead\n",
      "\n",
      "See the caveats in the documentation: https://pandas.pydata.org/pandas-docs/stable/user_guide/indexing.html#returning-a-view-versus-a-copy\n",
      "  X['PLAYER_OREB'] = np.power(X['PLAYER_OREB'], 1/3)\n",
      "C:\\Users\\Chang\\AppData\\Local\\Temp\\ipykernel_28940\\703270180.py:17: SettingWithCopyWarning: \n",
      "A value is trying to be set on a copy of a slice from a DataFrame.\n",
      "Try using .loc[row_indexer,col_indexer] = value instead\n",
      "\n",
      "See the caveats in the documentation: https://pandas.pydata.org/pandas-docs/stable/user_guide/indexing.html#returning-a-view-versus-a-copy\n",
      "  X['PLAYER_DREB'] = np.power(X['PLAYER_DREB'], 1/3)\n",
      "C:\\Users\\Chang\\AppData\\Local\\Temp\\ipykernel_28940\\703270180.py:19: SettingWithCopyWarning: \n",
      "A value is trying to be set on a copy of a slice from a DataFrame.\n",
      "Try using .loc[row_indexer,col_indexer] = value instead\n",
      "\n",
      "See the caveats in the documentation: https://pandas.pydata.org/pandas-docs/stable/user_guide/indexing.html#returning-a-view-versus-a-copy\n",
      "  X['PLAYER_STL'] = np.power(X['PLAYER_STL'], 1/3)\n",
      "C:\\Users\\Chang\\AppData\\Local\\Temp\\ipykernel_28940\\703270180.py:21: SettingWithCopyWarning: \n",
      "A value is trying to be set on a copy of a slice from a DataFrame.\n",
      "Try using .loc[row_indexer,col_indexer] = value instead\n",
      "\n",
      "See the caveats in the documentation: https://pandas.pydata.org/pandas-docs/stable/user_guide/indexing.html#returning-a-view-versus-a-copy\n",
      "  X['PLAYER_BLK'] = np.power(X['PLAYER_BLK'], 1/3)\n",
      "C:\\Users\\Chang\\AppData\\Local\\Temp\\ipykernel_28940\\703270180.py:23: SettingWithCopyWarning: \n",
      "A value is trying to be set on a copy of a slice from a DataFrame.\n",
      "Try using .loc[row_indexer,col_indexer] = value instead\n",
      "\n",
      "See the caveats in the documentation: https://pandas.pydata.org/pandas-docs/stable/user_guide/indexing.html#returning-a-view-versus-a-copy\n",
      "  X['PLAYER_PF'] = np.power(X['PLAYER_PF'], 1/3)\n"
     ]
    }
   ],
   "source": [
    "X['PLAYER_FGM'] = np.power(X['PLAYER_FGM'], 1/3)\n",
    "\n",
    "X['PLAYER_FG_MISSED'] = np.power(X['PLAYER_FG_MISSED'], 1/3)\n",
    "\n",
    "X['PLAYER_TOV'] = np.power(X['PLAYER_TOV'], 1/3)\n",
    "\n",
    "X['PLAYER_FTM'] = np.power(X['PLAYER_FTM'], 1/3)\n",
    "\n",
    "X['PLAYER_FT_MISSED'] = np.power(X['PLAYER_FT_MISSED'], 1/1.75)\n",
    "\n",
    "X['PLAYER_FG3M'] = np.power(X['PLAYER_FG3M'], 1/1.75)\n",
    "\n",
    "X['PLAYER_AST'] = np.power(X['PLAYER_AST'], 1/3)\n",
    "\n",
    "X['PLAYER_OREB'] = np.power(X['PLAYER_OREB'], 1/3)\n",
    "\n",
    "X['PLAYER_DREB'] = np.power(X['PLAYER_DREB'], 1/3)\n",
    "\n",
    "X['PLAYER_STL'] = np.power(X['PLAYER_STL'], 1/3)\n",
    "\n",
    "X['PLAYER_BLK'] = np.power(X['PLAYER_BLK'], 1/3)\n",
    "\n",
    "X['PLAYER_PF'] = np.power(X['PLAYER_PF'], 1/3)"
   ]
  },
  {
   "cell_type": "markdown",
   "id": "b8eaa1e0",
   "metadata": {},
   "source": [
    "### Train Test Split Data"
   ]
  },
  {
   "cell_type": "code",
   "execution_count": 31,
   "id": "b44de1c9",
   "metadata": {},
   "outputs": [],
   "source": [
    "# use sklearn train test split to shuffle while splitting\n",
    "from sklearn.model_selection import train_test_split"
   ]
  },
  {
   "cell_type": "code",
   "execution_count": 32,
   "id": "66bf5e9b",
   "metadata": {},
   "outputs": [
    {
     "data": {
      "text/plain": [
       "((1006, 12), (252, 12), (1006, 1), (252, 1))"
      ]
     },
     "execution_count": 32,
     "metadata": {},
     "output_type": "execute_result"
    }
   ],
   "source": [
    "X_train, X_test, y_train, y_test = train_test_split(X, y, test_size=0.2, random_state=24)\n",
    "\n",
    "X_train.shape, X_test.shape, y_train.shape, y_test.shape"
   ]
  },
  {
   "cell_type": "markdown",
   "id": "5bdf939c",
   "metadata": {},
   "source": [
    "### Try Sci-kit Learn Linear Model"
   ]
  },
  {
   "cell_type": "code",
   "execution_count": 33,
   "id": "ca721130",
   "metadata": {},
   "outputs": [],
   "source": [
    "from sklearn.linear_model import LinearRegression"
   ]
  },
  {
   "cell_type": "code",
   "execution_count": 34,
   "id": "cb0bc36c",
   "metadata": {},
   "outputs": [],
   "source": [
    "lin_model_sk = LinearRegression()"
   ]
  },
  {
   "cell_type": "code",
   "execution_count": 35,
   "id": "c1f22eb7",
   "metadata": {},
   "outputs": [
    {
     "data": {
      "text/plain": [
       "LinearRegression()"
      ]
     },
     "execution_count": 35,
     "metadata": {},
     "output_type": "execute_result"
    }
   ],
   "source": [
    "lin_model_sk.fit(X_train, y_train)"
   ]
  },
  {
   "cell_type": "code",
   "execution_count": 36,
   "id": "334fda13",
   "metadata": {},
   "outputs": [
    {
     "data": {
      "text/plain": [
       "(1, 12)"
      ]
     },
     "execution_count": 36,
     "metadata": {},
     "output_type": "execute_result"
    }
   ],
   "source": [
    "lin_model_sk.coef_.shape"
   ]
  },
  {
   "cell_type": "code",
   "execution_count": 37,
   "id": "8d63ab6f",
   "metadata": {},
   "outputs": [
    {
     "data": {
      "text/plain": [
       "array([[ 5.05792864, -4.33649078, -0.10805209,  0.11507979,  1.95809508,\n",
       "         0.79811424, -0.56956564,  0.64445409,  0.16944118, -0.350747  ,\n",
       "         0.98364297, -3.01366394]])"
      ]
     },
     "execution_count": 37,
     "metadata": {},
     "output_type": "execute_result"
    }
   ],
   "source": [
    "lin_model_sk.coef_"
   ]
  },
  {
   "cell_type": "code",
   "execution_count": 38,
   "id": "33bb7e37",
   "metadata": {},
   "outputs": [
    {
     "data": {
      "text/plain": [
       "array([10.46917932])"
      ]
     },
     "execution_count": 38,
     "metadata": {},
     "output_type": "execute_result"
    }
   ],
   "source": [
    "lin_model_sk.intercept_"
   ]
  },
  {
   "cell_type": "code",
   "execution_count": 39,
   "id": "6b1e977b",
   "metadata": {},
   "outputs": [],
   "source": [
    "y_pred = lin_model_sk.predict(X_test)"
   ]
  },
  {
   "cell_type": "code",
   "execution_count": 40,
   "id": "c78c0a65",
   "metadata": {},
   "outputs": [],
   "source": [
    "def rmse(y, y_hat):\n",
    "    return np.sqrt(np.mean((y - y_hat)**2))"
   ]
  },
  {
   "cell_type": "code",
   "execution_count": 41,
   "id": "7c0077f4",
   "metadata": {},
   "outputs": [
    {
     "data": {
      "text/plain": [
       "1.8226936816939867"
      ]
     },
     "execution_count": 41,
     "metadata": {},
     "output_type": "execute_result"
    }
   ],
   "source": [
    "rmse(np.array(y_test), y_pred)"
   ]
  },
  {
   "cell_type": "markdown",
   "id": "b83168f8",
   "metadata": {},
   "source": [
    "### Build Custom Linear Model on TensorFlow\n",
    "\n",
    "The Sci-Kit Learn implementation of the linear regression model has a direct closed-form solution for the minimum. To demonstrate that we can implement this same model on our own with little trouble, let us use tensorflow to show that we can attain the same results as the sci-kit learn implementation, then we can find a way to improve our model tremendously after the fact."
   ]
  },
  {
   "cell_type": "code",
   "execution_count": 42,
   "id": "4f5f76ef",
   "metadata": {},
   "outputs": [],
   "source": [
    "import tensorflow as tf"
   ]
  },
  {
   "cell_type": "code",
   "execution_count": 43,
   "id": "bd53664a",
   "metadata": {},
   "outputs": [
    {
     "data": {
      "text/plain": [
       "(1258, 12)"
      ]
     },
     "execution_count": 43,
     "metadata": {},
     "output_type": "execute_result"
    }
   ],
   "source": [
    "X.shape"
   ]
  },
  {
   "cell_type": "markdown",
   "id": "515b5ad1",
   "metadata": {},
   "source": [
    "#### Linear Regression Model v1\n",
    "\n",
    "We expect this to have the same result as the closed-form procedure for the Ordinary Least Squares Problem."
   ]
  },
  {
   "cell_type": "code",
   "execution_count": 44,
   "id": "c3fd3dcb",
   "metadata": {},
   "outputs": [],
   "source": [
    "# CREATE A CUSTOM LINEAR REGRESSION MODEL IN TENSORFLOW\n",
    "\n",
    "class LinearModel(tf.Module):\n",
    "    def __init__(self, **kwargs):\n",
    "        super().__init__(**kwargs)\n",
    "        \n",
    "        # don't initialize weights until we get an input\n",
    "        self.w = None\n",
    "        self.b = None\n",
    "        \n",
    "    def __call__(self, x):\n",
    "        # initialize weights to match shape of input if the parameters are None\n",
    "        if self.w is None and self.b is None:\n",
    "            self.w = tf.Variable(tf.random.normal(shape=(x.shape[1], 1)), trainable=True, name='W', dtype=tf.float32)\n",
    "#             self.b = tf.Variable(tf.random.normal(shape=(x.shape[0], 1)), trainable=True, name='b', dtype=tf.float32)\n",
    "            self.b = tf.Variable(tf.random.normal(shape=()), trainable=True, name='b', dtype=tf.float32)\n",
    "        else:\n",
    "            pass\n",
    "        \n",
    "        # our model will be x.W^T + b\n",
    "        \n",
    "        # compute dot product of weights and input and add bias\n",
    "        return tf.matmul(x, self.w) + tf.multiply(self.b, tf.ones(shape=(x.shape[0], 1)))"
   ]
  },
  {
   "cell_type": "markdown",
   "id": "0aef84f9",
   "metadata": {},
   "source": [
    "**Notice:** The trainable parameters are initialized to being none initially. We want the model to infer the parameter dimensions based on the input. This should update everytime we feed it forward."
   ]
  },
  {
   "cell_type": "code",
   "execution_count": 45,
   "id": "b5f929e4",
   "metadata": {},
   "outputs": [],
   "source": [
    "lin_model = LinearModel()\n",
    "\n",
    "# model.b, model.w"
   ]
  },
  {
   "cell_type": "markdown",
   "id": "e7f24cd3",
   "metadata": {},
   "source": [
    "We must convert all of our model inputs to tensors."
   ]
  },
  {
   "cell_type": "code",
   "execution_count": 46,
   "id": "f2bb7f58",
   "metadata": {},
   "outputs": [
    {
     "data": {
      "text/plain": [
       "(TensorShape([1006, 12]),\n",
       " TensorShape([252, 12]),\n",
       " TensorShape([1006, 1]),\n",
       " TensorShape([252, 1]))"
      ]
     },
     "execution_count": 46,
     "metadata": {},
     "output_type": "execute_result"
    }
   ],
   "source": [
    "X_train_tf, X_test_tf = tf.constant(np.array(X_train), dtype=tf.float32), tf.constant(np.array(X_test), dtype=tf.float32)\n",
    "\n",
    "y_train_tf, y_test_tf = tf.constant(np.array(y_train), dtype=tf.float32), tf.constant(np.array(y_test), dtype=tf.float32)\n",
    "\n",
    "X_train_tf.shape, X_test_tf.shape, y_train_tf.shape, y_test_tf.shape"
   ]
  },
  {
   "cell_type": "markdown",
   "id": "c490f9d8",
   "metadata": {},
   "source": [
    "Test the feedforward to make sure that our variables are initializing in the feedforward!"
   ]
  },
  {
   "cell_type": "code",
   "execution_count": 47,
   "id": "37b44152",
   "metadata": {},
   "outputs": [],
   "source": [
    "# model(X_train_tf)"
   ]
  },
  {
   "cell_type": "markdown",
   "id": "e6ad546f",
   "metadata": {},
   "source": [
    "Now that we fed it forward in our model once, we should have some non-null parameters."
   ]
  },
  {
   "cell_type": "code",
   "execution_count": 48,
   "id": "fc2dec0f",
   "metadata": {},
   "outputs": [],
   "source": [
    "# model.b, model.w"
   ]
  },
  {
   "cell_type": "code",
   "execution_count": 49,
   "id": "4e61189d",
   "metadata": {},
   "outputs": [],
   "source": [
    "# USE A MEAN SQUARE ERROR LOSS\n",
    "\n",
    "@tf.function\n",
    "def mse_loss(y, y_hat):\n",
    "    return tf.reduce_mean(tf.pow(y - y_hat, 2))"
   ]
  },
  {
   "cell_type": "code",
   "execution_count": 50,
   "id": "fb901a5c",
   "metadata": {},
   "outputs": [],
   "source": [
    "import timeit as t"
   ]
  },
  {
   "cell_type": "code",
   "execution_count": 51,
   "id": "5f3e4a6a",
   "metadata": {},
   "outputs": [],
   "source": [
    "# method to fit the model by optimizing the loss\n",
    "def fit(x, y, epochs, model, loss_fn, optimizer):\n",
    "    # time it so we can benchmark performance\n",
    "    total_train_time = 0\n",
    "    epoch_group_train_time = 0\n",
    "    \n",
    "    for epoch in range(epochs):\n",
    "        start_epoch = t.default_timer()\n",
    "        with tf.GradientTape(persistent=True) as tp:\n",
    "            # COMPUTATIONS THAT ARE INVOLVED IN THE OPTIMIZATION ARE IN SCOPE OF AUTOGRAD\n",
    "            # initialize y_hat\n",
    "            y_hat = model(x)\n",
    "            # compute loss\n",
    "            loss = loss_fn(y, y_hat)\n",
    "        \n",
    "        # compute gradients tracked in autograd\n",
    "        dloss = tp.gradient(loss, model.variables)\n",
    "        \n",
    "        # optimize\n",
    "        optimizer.apply_gradients(zip(dloss, model.variables))\n",
    "        \n",
    "        end_epoch = t.default_timer()\n",
    "        \n",
    "        total_train_time += (end_epoch - start_epoch)\n",
    "        epoch_group_train_time += (end_epoch - start_epoch)\n",
    "        \n",
    "        if (epoch + 1) % 100 == 0:\n",
    "            print(f'Epoch {epoch + 1} | Loss {loss_fn(y, y_hat).numpy():.4f} | 100 Epochs Runtime {epoch_group_train_time} sec.')\n",
    "            \n",
    "            # get time of this batch of train times and reset it after\n",
    "            epoch_group_train_time = 0\n",
    "        \n",
    "    print(f'Total Training Time {total_train_time} sec.')"
   ]
  },
  {
   "cell_type": "code",
   "execution_count": 52,
   "id": "088e6294",
   "metadata": {
    "scrolled": true
   },
   "outputs": [
    {
     "name": "stdout",
     "output_type": "stream",
     "text": [
      "Epoch 100 | Loss 32.2841 | 100 Epochs Runtime 0.7855719000000185 sec.\n",
      "Epoch 200 | Loss 18.7689 | 100 Epochs Runtime 0.662196699999992 sec.\n",
      "Epoch 300 | Loss 17.4986 | 100 Epochs Runtime 0.6417247000000081 sec.\n",
      "Epoch 400 | Loss 17.2975 | 100 Epochs Runtime 0.6715275999999868 sec.\n",
      "Epoch 500 | Loss 17.1211 | 100 Epochs Runtime 0.6619473000000262 sec.\n",
      "Epoch 600 | Loss 16.9391 | 100 Epochs Runtime 0.6698956000000003 sec.\n",
      "Epoch 700 | Loss 16.7550 | 100 Epochs Runtime 0.657983300000005 sec.\n",
      "Epoch 800 | Loss 16.5714 | 100 Epochs Runtime 0.6753171000000187 sec.\n",
      "Epoch 900 | Loss 16.3902 | 100 Epochs Runtime 0.5888528999999956 sec.\n",
      "Epoch 1000 | Loss 16.2123 | 100 Epochs Runtime 0.6455084000000113 sec.\n",
      "Epoch 1100 | Loss 16.0381 | 100 Epochs Runtime 0.6105654999999857 sec.\n",
      "Epoch 1200 | Loss 15.8676 | 100 Epochs Runtime 0.6627978999999797 sec.\n",
      "Epoch 1300 | Loss 15.7007 | 100 Epochs Runtime 0.6372981000000202 sec.\n",
      "Epoch 1400 | Loss 15.5368 | 100 Epochs Runtime 0.6437486999999926 sec.\n",
      "Epoch 1500 | Loss 15.3757 | 100 Epochs Runtime 0.6609046000000021 sec.\n",
      "Epoch 1600 | Loss 15.2167 | 100 Epochs Runtime 0.6446276000000175 sec.\n",
      "Epoch 1700 | Loss 15.0595 | 100 Epochs Runtime 0.6647939999999863 sec.\n",
      "Epoch 1800 | Loss 14.9037 | 100 Epochs Runtime 0.6675259999999881 sec.\n",
      "Epoch 1900 | Loss 14.7490 | 100 Epochs Runtime 0.6617523999999904 sec.\n",
      "Epoch 2000 | Loss 14.5953 | 100 Epochs Runtime 0.593213599999995 sec.\n",
      "Epoch 2100 | Loss 14.4423 | 100 Epochs Runtime 0.6765196000000167 sec.\n",
      "Epoch 2200 | Loss 14.2899 | 100 Epochs Runtime 0.658104800000018 sec.\n",
      "Epoch 2300 | Loss 14.1379 | 100 Epochs Runtime 0.6448385999999786 sec.\n",
      "Epoch 2400 | Loss 13.9862 | 100 Epochs Runtime 0.6388439999999989 sec.\n",
      "Epoch 2500 | Loss 13.8347 | 100 Epochs Runtime 0.6516883000000036 sec.\n",
      "Epoch 2600 | Loss 13.6831 | 100 Epochs Runtime 0.6316429000000241 sec.\n",
      "Epoch 2700 | Loss 13.5314 | 100 Epochs Runtime 0.6296279999999754 sec.\n",
      "Epoch 2800 | Loss 13.3793 | 100 Epochs Runtime 0.6064587999999702 sec.\n",
      "Epoch 2900 | Loss 13.2268 | 100 Epochs Runtime 0.624660899999995 sec.\n",
      "Epoch 3000 | Loss 13.0737 | 100 Epochs Runtime 0.6466305000000077 sec.\n",
      "Epoch 3100 | Loss 12.9197 | 100 Epochs Runtime 0.6469914000000259 sec.\n",
      "Epoch 3200 | Loss 12.7649 | 100 Epochs Runtime 0.6388853999999498 sec.\n",
      "Epoch 3300 | Loss 12.6091 | 100 Epochs Runtime 0.6426881999999878 sec.\n",
      "Epoch 3400 | Loss 12.4522 | 100 Epochs Runtime 0.6293657000000721 sec.\n",
      "Epoch 3500 | Loss 12.2942 | 100 Epochs Runtime 0.6319954999999879 sec.\n",
      "Epoch 3600 | Loss 12.1350 | 100 Epochs Runtime 0.6338402999999886 sec.\n",
      "Epoch 3700 | Loss 11.9748 | 100 Epochs Runtime 0.4319999000000365 sec.\n",
      "Epoch 3800 | Loss 11.8134 | 100 Epochs Runtime 0.5139794999999978 sec.\n",
      "Epoch 3900 | Loss 11.6511 | 100 Epochs Runtime 0.40960789999997615 sec.\n",
      "Epoch 4000 | Loss 11.4880 | 100 Epochs Runtime 0.6281638999999899 sec.\n",
      "Epoch 4100 | Loss 11.3241 | 100 Epochs Runtime 0.6291850000000068 sec.\n",
      "Epoch 4200 | Loss 11.1596 | 100 Epochs Runtime 0.6369182000000393 sec.\n",
      "Epoch 4300 | Loss 10.9947 | 100 Epochs Runtime 0.6225307000000413 sec.\n",
      "Epoch 4400 | Loss 10.8296 | 100 Epochs Runtime 0.6982115000000064 sec.\n",
      "Epoch 4500 | Loss 10.6645 | 100 Epochs Runtime 0.711117299999998 sec.\n",
      "Epoch 4600 | Loss 10.4997 | 100 Epochs Runtime 0.6386809000000042 sec.\n",
      "Epoch 4700 | Loss 10.3352 | 100 Epochs Runtime 0.6392124000000123 sec.\n",
      "Epoch 4800 | Loss 10.1715 | 100 Epochs Runtime 0.6550398000000044 sec.\n",
      "Epoch 4900 | Loss 10.0086 | 100 Epochs Runtime 0.6415008999999898 sec.\n",
      "Epoch 5000 | Loss 9.8469 | 100 Epochs Runtime 0.6285944000000114 sec.\n",
      "Epoch 5100 | Loss 9.6865 | 100 Epochs Runtime 0.6427247999999892 sec.\n",
      "Epoch 5200 | Loss 9.5276 | 100 Epochs Runtime 0.6187214000000338 sec.\n",
      "Epoch 5300 | Loss 9.3706 | 100 Epochs Runtime 0.6274567000000104 sec.\n",
      "Epoch 5400 | Loss 9.2155 | 100 Epochs Runtime 0.6400781999999765 sec.\n",
      "Epoch 5500 | Loss 9.0626 | 100 Epochs Runtime 0.6275784999999914 sec.\n",
      "Epoch 5600 | Loss 8.9120 | 100 Epochs Runtime 0.6405017000000086 sec.\n",
      "Epoch 5700 | Loss 8.7639 | 100 Epochs Runtime 0.6716612999999967 sec.\n",
      "Epoch 5800 | Loss 8.6184 | 100 Epochs Runtime 0.6292845999999912 sec.\n",
      "Epoch 5900 | Loss 8.4757 | 100 Epochs Runtime 0.6341921999999585 sec.\n",
      "Epoch 6000 | Loss 8.3358 | 100 Epochs Runtime 0.6521718999999919 sec.\n",
      "Epoch 6100 | Loss 8.1988 | 100 Epochs Runtime 0.6382308000000307 sec.\n",
      "Epoch 6200 | Loss 8.0649 | 100 Epochs Runtime 0.646339800000014 sec.\n",
      "Epoch 6300 | Loss 7.9339 | 100 Epochs Runtime 0.6331109999999924 sec.\n",
      "Epoch 6400 | Loss 7.8061 | 100 Epochs Runtime 0.6226579000000356 sec.\n",
      "Epoch 6500 | Loss 7.6813 | 100 Epochs Runtime 0.6351079999999953 sec.\n",
      "Epoch 6600 | Loss 7.5595 | 100 Epochs Runtime 0.6289146000000372 sec.\n",
      "Epoch 6700 | Loss 7.4409 | 100 Epochs Runtime 0.6277479999999542 sec.\n",
      "Epoch 6800 | Loss 7.3252 | 100 Epochs Runtime 0.6296327000000019 sec.\n",
      "Epoch 6900 | Loss 7.2125 | 100 Epochs Runtime 0.6592959999999977 sec.\n",
      "Epoch 7000 | Loss 7.1027 | 100 Epochs Runtime 0.65107610000004 sec.\n",
      "Epoch 7100 | Loss 6.9957 | 100 Epochs Runtime 0.6454047999999801 sec.\n",
      "Epoch 7200 | Loss 6.8915 | 100 Epochs Runtime 0.6164520999999965 sec.\n",
      "Epoch 7300 | Loss 6.7901 | 100 Epochs Runtime 0.57731729999999 sec.\n",
      "Epoch 7400 | Loss 6.6913 | 100 Epochs Runtime 0.6350208000000919 sec.\n",
      "Epoch 7500 | Loss 6.5951 | 100 Epochs Runtime 0.6349496000000556 sec.\n",
      "Epoch 7600 | Loss 6.5014 | 100 Epochs Runtime 0.6328612999999592 sec.\n",
      "Epoch 7700 | Loss 6.4101 | 100 Epochs Runtime 0.6283198999999087 sec.\n",
      "Epoch 7800 | Loss 6.3212 | 100 Epochs Runtime 0.6298172000000051 sec.\n",
      "Epoch 7900 | Loss 6.2347 | 100 Epochs Runtime 0.6307993999999724 sec.\n",
      "Epoch 8000 | Loss 6.1504 | 100 Epochs Runtime 0.6196994999999674 sec.\n",
      "Epoch 8100 | Loss 6.0683 | 100 Epochs Runtime 0.6280387999999988 sec.\n",
      "Epoch 8200 | Loss 5.9884 | 100 Epochs Runtime 0.6237830999999545 sec.\n",
      "Epoch 8300 | Loss 5.9106 | 100 Epochs Runtime 0.6334360999999831 sec.\n",
      "Epoch 8400 | Loss 5.8349 | 100 Epochs Runtime 0.6395764999999756 sec.\n",
      "Epoch 8500 | Loss 5.7612 | 100 Epochs Runtime 0.62602899999996 sec.\n",
      "Epoch 8600 | Loss 5.6895 | 100 Epochs Runtime 0.626208299999945 sec.\n",
      "Epoch 8700 | Loss 5.6197 | 100 Epochs Runtime 0.6253524999999769 sec.\n",
      "Epoch 8800 | Loss 5.5519 | 100 Epochs Runtime 0.612571899999935 sec.\n",
      "Epoch 8900 | Loss 5.4860 | 100 Epochs Runtime 0.6202413999999692 sec.\n",
      "Epoch 9000 | Loss 5.4220 | 100 Epochs Runtime 0.6223734999999806 sec.\n",
      "Epoch 9100 | Loss 5.3598 | 100 Epochs Runtime 0.6215683000000212 sec.\n",
      "Epoch 9200 | Loss 5.2994 | 100 Epochs Runtime 0.6409309999998953 sec.\n",
      "Epoch 9300 | Loss 5.2408 | 100 Epochs Runtime 0.6390183000000036 sec.\n",
      "Epoch 9400 | Loss 5.1839 | 100 Epochs Runtime 0.6436995999999766 sec.\n",
      "Epoch 9500 | Loss 5.1288 | 100 Epochs Runtime 0.6270370000000014 sec.\n",
      "Epoch 9600 | Loss 5.0753 | 100 Epochs Runtime 0.6415403999999825 sec.\n",
      "Epoch 9700 | Loss 5.0235 | 100 Epochs Runtime 0.6390083999999945 sec.\n",
      "Epoch 9800 | Loss 4.9734 | 100 Epochs Runtime 0.6367061000000831 sec.\n",
      "Epoch 9900 | Loss 4.9248 | 100 Epochs Runtime 0.656473999999946 sec.\n",
      "Epoch 10000 | Loss 4.8778 | 100 Epochs Runtime 0.6326506999999992 sec.\n",
      "Epoch 10100 | Loss 4.8324 | 100 Epochs Runtime 0.5918439000000291 sec.\n",
      "Epoch 10200 | Loss 4.7885 | 100 Epochs Runtime 0.5833580999999697 sec.\n",
      "Epoch 10300 | Loss 4.7461 | 100 Epochs Runtime 0.5743353000000013 sec.\n",
      "Epoch 10400 | Loss 4.7051 | 100 Epochs Runtime 0.5345137000000193 sec.\n",
      "Epoch 10500 | Loss 4.6656 | 100 Epochs Runtime 0.6647091000000671 sec.\n",
      "Epoch 10600 | Loss 4.6275 | 100 Epochs Runtime 0.6353385000000884 sec.\n",
      "Epoch 10700 | Loss 4.5908 | 100 Epochs Runtime 0.6871401999999733 sec.\n",
      "Epoch 10800 | Loss 4.5555 | 100 Epochs Runtime 0.6610574000000469 sec.\n",
      "Epoch 10900 | Loss 4.5215 | 100 Epochs Runtime 0.6380025000000131 sec.\n",
      "Epoch 11000 | Loss 4.4888 | 100 Epochs Runtime 0.6425950000001137 sec.\n",
      "Epoch 11100 | Loss 4.4575 | 100 Epochs Runtime 0.630657000000042 sec.\n",
      "Epoch 11200 | Loss 4.4274 | 100 Epochs Runtime 0.634005199999919 sec.\n",
      "Epoch 11300 | Loss 4.3985 | 100 Epochs Runtime 0.6213439000000562 sec.\n",
      "Epoch 11400 | Loss 4.3709 | 100 Epochs Runtime 0.6562303999999557 sec.\n",
      "Epoch 11500 | Loss 4.3444 | 100 Epochs Runtime 0.6378855000000101 sec.\n",
      "Epoch 11600 | Loss 4.3191 | 100 Epochs Runtime 0.6370659999999333 sec.\n",
      "Epoch 11700 | Loss 4.2950 | 100 Epochs Runtime 0.6478384000001256 sec.\n"
     ]
    },
    {
     "name": "stdout",
     "output_type": "stream",
     "text": [
      "Epoch 11800 | Loss 4.2719 | 100 Epochs Runtime 0.5902948000000521 sec.\n",
      "Epoch 11900 | Loss 4.2500 | 100 Epochs Runtime 0.5856446000000375 sec.\n",
      "Epoch 12000 | Loss 4.2291 | 100 Epochs Runtime 0.5748772999999971 sec.\n",
      "Epoch 12100 | Loss 4.2091 | 100 Epochs Runtime 0.6804970999999398 sec.\n",
      "Epoch 12200 | Loss 4.1902 | 100 Epochs Runtime 0.6414979000000898 sec.\n",
      "Epoch 12300 | Loss 4.1723 | 100 Epochs Runtime 0.6424332999999933 sec.\n",
      "Epoch 12400 | Loss 4.1552 | 100 Epochs Runtime 0.6135184000000606 sec.\n",
      "Epoch 12500 | Loss 4.1390 | 100 Epochs Runtime 0.6271401000000054 sec.\n",
      "Epoch 12600 | Loss 4.1237 | 100 Epochs Runtime 0.6350831999999969 sec.\n",
      "Epoch 12700 | Loss 4.1092 | 100 Epochs Runtime 0.6317263999999909 sec.\n",
      "Epoch 12800 | Loss 4.0955 | 100 Epochs Runtime 0.653507699999949 sec.\n",
      "Epoch 12900 | Loss 4.0825 | 100 Epochs Runtime 0.3942489999999452 sec.\n",
      "Epoch 13000 | Loss 4.0703 | 100 Epochs Runtime 0.6161814999999109 sec.\n",
      "Epoch 13100 | Loss 4.0587 | 100 Epochs Runtime 0.6335942000000614 sec.\n",
      "Epoch 13200 | Loss 4.0478 | 100 Epochs Runtime 0.6423302999999976 sec.\n",
      "Epoch 13300 | Loss 4.0375 | 100 Epochs Runtime 0.6231252000000467 sec.\n",
      "Epoch 13400 | Loss 4.0278 | 100 Epochs Runtime 0.6553730999998919 sec.\n",
      "Epoch 13500 | Loss 4.0186 | 100 Epochs Runtime 0.6342151999999572 sec.\n",
      "Epoch 13600 | Loss 4.0100 | 100 Epochs Runtime 0.6348852000000278 sec.\n",
      "Epoch 13700 | Loss 4.0018 | 100 Epochs Runtime 0.6151738000000364 sec.\n",
      "Epoch 13800 | Loss 3.9942 | 100 Epochs Runtime 0.6215083000000732 sec.\n",
      "Epoch 13900 | Loss 3.9869 | 100 Epochs Runtime 0.6268508999999511 sec.\n",
      "Epoch 14000 | Loss 3.9801 | 100 Epochs Runtime 0.6344392999999684 sec.\n",
      "Epoch 14100 | Loss 3.9737 | 100 Epochs Runtime 0.6234967999998986 sec.\n",
      "Epoch 14200 | Loss 3.9676 | 100 Epochs Runtime 0.5707264000000265 sec.\n",
      "Epoch 14300 | Loss 3.9619 | 100 Epochs Runtime 0.6452327000000366 sec.\n",
      "Epoch 14400 | Loss 3.9566 | 100 Epochs Runtime 0.6359058000000175 sec.\n",
      "Epoch 14500 | Loss 3.9516 | 100 Epochs Runtime 0.6280385999999822 sec.\n",
      "Epoch 14600 | Loss 3.9468 | 100 Epochs Runtime 0.6523639000000401 sec.\n",
      "Epoch 14700 | Loss 3.9424 | 100 Epochs Runtime 0.5363330999999789 sec.\n",
      "Epoch 14800 | Loss 3.9382 | 100 Epochs Runtime 0.6292161000000078 sec.\n",
      "Epoch 14900 | Loss 3.9343 | 100 Epochs Runtime 0.632380399999974 sec.\n",
      "Epoch 15000 | Loss 3.9307 | 100 Epochs Runtime 0.6308908000000315 sec.\n",
      "Epoch 15100 | Loss 3.9273 | 100 Epochs Runtime 0.6290107999999321 sec.\n",
      "Epoch 15200 | Loss 3.9241 | 100 Epochs Runtime 0.6490112000000039 sec.\n",
      "Epoch 15300 | Loss 3.9212 | 100 Epochs Runtime 0.6309821999999627 sec.\n",
      "Epoch 15400 | Loss 3.9185 | 100 Epochs Runtime 0.6235843999999133 sec.\n",
      "Epoch 15500 | Loss 3.9160 | 100 Epochs Runtime 0.6205900000000781 sec.\n",
      "Epoch 15600 | Loss 3.9136 | 100 Epochs Runtime 0.6505287000000095 sec.\n",
      "Epoch 15700 | Loss 3.9115 | 100 Epochs Runtime 0.6219818000000714 sec.\n",
      "Epoch 15800 | Loss 3.9096 | 100 Epochs Runtime 0.6000889000000171 sec.\n",
      "Epoch 15900 | Loss 3.9078 | 100 Epochs Runtime 0.6400165999999246 sec.\n",
      "Epoch 16000 | Loss 3.9062 | 100 Epochs Runtime 0.617571099999978 sec.\n",
      "Epoch 16100 | Loss 3.9047 | 100 Epochs Runtime 0.6216548000000017 sec.\n",
      "Epoch 16200 | Loss 3.9034 | 100 Epochs Runtime 0.6336433000001165 sec.\n",
      "Epoch 16300 | Loss 3.9022 | 100 Epochs Runtime 0.6219712999999132 sec.\n",
      "Epoch 16400 | Loss 3.9011 | 100 Epochs Runtime 0.6288837999999686 sec.\n",
      "Epoch 16500 | Loss 3.9002 | 100 Epochs Runtime 0.6388765000001086 sec.\n",
      "Epoch 16600 | Loss 3.8994 | 100 Epochs Runtime 0.6253826000001368 sec.\n",
      "Epoch 16700 | Loss 3.8987 | 100 Epochs Runtime 0.627439599999974 sec.\n",
      "Epoch 16800 | Loss 3.8980 | 100 Epochs Runtime 0.6300654000000065 sec.\n",
      "Epoch 16900 | Loss 3.8975 | 100 Epochs Runtime 0.6289611000000122 sec.\n",
      "Epoch 17000 | Loss 3.8970 | 100 Epochs Runtime 0.6247643000000096 sec.\n",
      "Epoch 17100 | Loss 3.8966 | 100 Epochs Runtime 0.6173355000000385 sec.\n",
      "Epoch 17200 | Loss 3.8962 | 100 Epochs Runtime 0.6341960999999543 sec.\n",
      "Epoch 17300 | Loss 3.8960 | 100 Epochs Runtime 0.6217909000000645 sec.\n",
      "Epoch 17400 | Loss 3.8957 | 100 Epochs Runtime 0.6344056000000933 sec.\n",
      "Epoch 17500 | Loss 3.8955 | 100 Epochs Runtime 0.6972276000000761 sec.\n",
      "Epoch 17600 | Loss 3.8954 | 100 Epochs Runtime 0.6312762999999677 sec.\n",
      "Epoch 17700 | Loss 3.8952 | 100 Epochs Runtime 0.6240705000000446 sec.\n",
      "Epoch 17800 | Loss 3.8951 | 100 Epochs Runtime 0.6086011999998959 sec.\n",
      "Epoch 17900 | Loss 3.8951 | 100 Epochs Runtime 0.6270442000000855 sec.\n",
      "Epoch 18000 | Loss 3.8950 | 100 Epochs Runtime 0.6341111999999498 sec.\n",
      "Epoch 18100 | Loss 3.8950 | 100 Epochs Runtime 0.6430863999997314 sec.\n",
      "Epoch 18200 | Loss 3.8949 | 100 Epochs Runtime 0.6199660999999992 sec.\n",
      "Epoch 18300 | Loss 3.8949 | 100 Epochs Runtime 0.6228252000001646 sec.\n",
      "Epoch 18400 | Loss 3.8949 | 100 Epochs Runtime 0.6293223000000694 sec.\n",
      "Epoch 18500 | Loss 3.8949 | 100 Epochs Runtime 0.6345904999999448 sec.\n",
      "Epoch 18600 | Loss 3.8949 | 100 Epochs Runtime 0.6049036999998805 sec.\n",
      "Epoch 18700 | Loss 3.8949 | 100 Epochs Runtime 0.6247670999998434 sec.\n",
      "Epoch 18800 | Loss 3.8948 | 100 Epochs Runtime 0.6406735999999853 sec.\n",
      "Epoch 18900 | Loss 3.8949 | 100 Epochs Runtime 0.6240150000000142 sec.\n",
      "Epoch 19000 | Loss 3.8948 | 100 Epochs Runtime 0.6319441999998787 sec.\n",
      "Epoch 19100 | Loss 3.8948 | 100 Epochs Runtime 0.6499689000000046 sec.\n",
      "Epoch 19200 | Loss 3.8948 | 100 Epochs Runtime 0.6428887999999517 sec.\n",
      "Epoch 19300 | Loss 3.8948 | 100 Epochs Runtime 0.6297483000002444 sec.\n",
      "Epoch 19400 | Loss 3.8948 | 100 Epochs Runtime 0.6588204999997345 sec.\n",
      "Epoch 19500 | Loss 3.8949 | 100 Epochs Runtime 0.6322400999999047 sec.\n",
      "Epoch 19600 | Loss 3.8948 | 100 Epochs Runtime 0.6288705999997148 sec.\n",
      "Epoch 19700 | Loss 3.8948 | 100 Epochs Runtime 0.6250211000000547 sec.\n",
      "Epoch 19800 | Loss 3.8948 | 100 Epochs Runtime 0.6285011000000225 sec.\n",
      "Epoch 19900 | Loss 3.8948 | 100 Epochs Runtime 0.632709599999913 sec.\n",
      "Epoch 20000 | Loss 3.8948 | 100 Epochs Runtime 0.6297600000000614 sec.\n",
      "Total Training Time 126.06899419999945 sec.\n"
     ]
    }
   ],
   "source": [
    "learning_rate = 0.001\n",
    "\n",
    "fit(X_train_tf, y_train_tf, 20000, lin_model, mse_loss, tf.keras.optimizers.Adam(learning_rate))"
   ]
  },
  {
   "cell_type": "markdown",
   "id": "ec07fc78",
   "metadata": {},
   "source": [
    "**Note: I recommend using Adam optimizer over Stochastic Gradient Descent because the SGD is very slow and takes a long time to converge. The training loss is never indicative of a model's general performance, but the training losses for the Adam optimizer indicate that it is the better thing to use.**\n",
    "\n",
    "#### Evaluate Custom Model\n",
    "\n",
    "We got the training loss decently low, let us see if this fares better than the sklearn model!"
   ]
  },
  {
   "cell_type": "code",
   "execution_count": 53,
   "id": "15451f13",
   "metadata": {},
   "outputs": [
    {
     "name": "stdout",
     "output_type": "stream",
     "text": [
      "The root mean square error of our model on our test set is 1.82270 PER scores.\n"
     ]
    }
   ],
   "source": [
    "# RUN FEEDFORWARD AND PREDICT A PER\n",
    "\n",
    "test_loss = tf.sqrt(mse_loss(y_test_tf, lin_model(X_test_tf))).numpy()\n",
    "\n",
    "print(f'The root mean square error of our model on our test set is {test_loss:.5f} PER scores.')"
   ]
  },
  {
   "cell_type": "markdown",
   "id": "605bd387",
   "metadata": {},
   "source": [
    "#### Linear Regression Model v2\n",
    "\n",
    "We will try something different here. In our above implementation, we had a model of the form:\n",
    "\n",
    "$$y_{hat} = Wx + b$$\n",
    "\n",
    "Where $b$ is of the form:\n",
    "\n",
    "$$\\dot{b} \\cdot \\mathbf{1}$$\n",
    "\n",
    "And $\\dot{b}$ is a fixed constant and $\\mathbf{1}$ is an appropriate vector with only 1's as entries.\n",
    "\n",
    "However, we can actually make this model smarter by replacing $b$ with a different $b$ in which every entry is different. The only thing is that there is no way to make the dimensions match (because in our implementation of OLS, we fixed the size of the bias to be a vector of ones [i.e. the $\\mathbf{1}$] that would match in dimension of the desired output). We can circumvent this by combining entries of our tensor. We will demonstrate below."
   ]
  },
  {
   "cell_type": "code",
   "execution_count": 54,
   "id": "621d3237",
   "metadata": {},
   "outputs": [],
   "source": [
    "# CREATE A CUSTOM LINEAR REGRESSION MODEL IN TENSORFLOW, IMPLEMENT OUR PROPOSED IDEA\n",
    "\n",
    "class LinearModelv2(tf.Module):\n",
    "    def __init__(self, **kwargs):\n",
    "        super().__init__(**kwargs)\n",
    "        \n",
    "        # don't initialize weights until we get an input\n",
    "        self.w = None\n",
    "        self.b = None\n",
    "        \n",
    "    def __call__(self, x):\n",
    "        # initialize weights to match shape of input if the parameters are None\n",
    "        if self.w is None and self.b is None:\n",
    "            self.w = tf.Variable(tf.random.normal(shape=(x.shape[1], 1)), trainable=True, name='W', dtype=tf.float32)\n",
    "            self.b = tf.Variable(tf.random.normal(shape=(x.shape[0], 1)), trainable=True, name='b', dtype=tf.float32)\n",
    "        else:\n",
    "            pass\n",
    "        \n",
    "        # our model will be x.W^T + b\n",
    "        \n",
    "        # compute dot product of weights and input and add bias\n",
    "        return tf.matmul(x, self.w) + self.b"
   ]
  },
  {
   "cell_type": "code",
   "execution_count": 55,
   "id": "d60a3524",
   "metadata": {},
   "outputs": [],
   "source": [
    "lin_modelv2 = LinearModelv2()"
   ]
  },
  {
   "cell_type": "code",
   "execution_count": 56,
   "id": "fb7efc42",
   "metadata": {
    "scrolled": true
   },
   "outputs": [
    {
     "name": "stdout",
     "output_type": "stream",
     "text": [
      "Epoch 100 | Loss 81.0690 | 100 Epochs Runtime 0.6874990999999397 sec.\n",
      "Epoch 200 | Loss 33.6354 | 100 Epochs Runtime 0.6779180999999426 sec.\n",
      "Epoch 300 | Loss 19.6624 | 100 Epochs Runtime 0.650222399999933 sec.\n",
      "Epoch 400 | Loss 16.2146 | 100 Epochs Runtime 0.6273275999999441 sec.\n",
      "Epoch 500 | Loss 14.9389 | 100 Epochs Runtime 0.6336412999999084 sec.\n",
      "Epoch 600 | Loss 13.9757 | 100 Epochs Runtime 0.6343061999998554 sec.\n",
      "Epoch 700 | Loss 13.0738 | 100 Epochs Runtime 0.6244901999998547 sec.\n",
      "Epoch 800 | Loss 12.2192 | 100 Epochs Runtime 0.6147053999999628 sec.\n",
      "Epoch 900 | Loss 11.4173 | 100 Epochs Runtime 0.6175511999998946 sec.\n",
      "Epoch 1000 | Loss 10.6724 | 100 Epochs Runtime 0.6263133999999013 sec.\n",
      "Epoch 1100 | Loss 9.9856 | 100 Epochs Runtime 0.6146960999999465 sec.\n",
      "Epoch 1200 | Loss 9.3563 | 100 Epochs Runtime 0.615713299999868 sec.\n",
      "Epoch 1300 | Loss 8.7819 | 100 Epochs Runtime 0.6219093999998222 sec.\n",
      "Epoch 1400 | Loss 8.2588 | 100 Epochs Runtime 0.6339883000001407 sec.\n",
      "Epoch 1500 | Loss 7.7824 | 100 Epochs Runtime 0.610924000000125 sec.\n",
      "Epoch 1600 | Loss 7.3478 | 100 Epochs Runtime 0.6154504000000429 sec.\n",
      "Epoch 1700 | Loss 6.9503 | 100 Epochs Runtime 0.6128896000000452 sec.\n",
      "Epoch 1800 | Loss 6.5849 | 100 Epochs Runtime 0.6097577999998407 sec.\n",
      "Epoch 1900 | Loss 6.2473 | 100 Epochs Runtime 0.623523300000187 sec.\n",
      "Epoch 2000 | Loss 5.9336 | 100 Epochs Runtime 0.6180336999998701 sec.\n",
      "Epoch 2100 | Loss 5.6404 | 100 Epochs Runtime 0.5788272999998298 sec.\n",
      "Epoch 2200 | Loss 5.3648 | 100 Epochs Runtime 0.6248078000000419 sec.\n",
      "Epoch 2300 | Loss 5.1044 | 100 Epochs Runtime 0.6079469000000302 sec.\n",
      "Epoch 2400 | Loss 4.8575 | 100 Epochs Runtime 0.6181032999995466 sec.\n",
      "Epoch 2500 | Loss 4.6224 | 100 Epochs Runtime 0.5993304999998941 sec.\n",
      "Epoch 2600 | Loss 4.3981 | 100 Epochs Runtime 0.63435170000011 sec.\n",
      "Epoch 2700 | Loss 4.1837 | 100 Epochs Runtime 0.6223732999999072 sec.\n",
      "Epoch 2800 | Loss 3.9785 | 100 Epochs Runtime 0.6151428999999382 sec.\n",
      "Epoch 2900 | Loss 3.7820 | 100 Epochs Runtime 0.6185496999996758 sec.\n",
      "Epoch 3000 | Loss 3.5937 | 100 Epochs Runtime 0.6070421000000863 sec.\n",
      "Epoch 3100 | Loss 3.4133 | 100 Epochs Runtime 0.6080615000001615 sec.\n",
      "Epoch 3200 | Loss 3.2406 | 100 Epochs Runtime 0.6091331000001219 sec.\n",
      "Epoch 3300 | Loss 3.0753 | 100 Epochs Runtime 0.603256099999868 sec.\n",
      "Epoch 3400 | Loss 2.9171 | 100 Epochs Runtime 0.6209116000000279 sec.\n",
      "Epoch 3500 | Loss 2.7657 | 100 Epochs Runtime 0.6095493999997927 sec.\n",
      "Epoch 3600 | Loss 2.6211 | 100 Epochs Runtime 0.5694224000001213 sec.\n",
      "Epoch 3700 | Loss 2.4830 | 100 Epochs Runtime 0.6154904000001409 sec.\n",
      "Epoch 3800 | Loss 2.3511 | 100 Epochs Runtime 0.6057811000000584 sec.\n",
      "Epoch 3900 | Loss 2.2253 | 100 Epochs Runtime 0.6260969999999588 sec.\n",
      "Epoch 4000 | Loss 2.1053 | 100 Epochs Runtime 0.6226292000000342 sec.\n",
      "Epoch 4100 | Loss 1.9909 | 100 Epochs Runtime 0.6037370000002795 sec.\n",
      "Epoch 4200 | Loss 1.8820 | 100 Epochs Runtime 0.6265905999999859 sec.\n",
      "Epoch 4300 | Loss 1.7783 | 100 Epochs Runtime 0.5964155000003473 sec.\n",
      "Epoch 4400 | Loss 1.6796 | 100 Epochs Runtime 0.6232284999998683 sec.\n",
      "Epoch 4500 | Loss 1.5857 | 100 Epochs Runtime 0.6180753999999524 sec.\n",
      "Epoch 4600 | Loss 1.4965 | 100 Epochs Runtime 0.6084457000001464 sec.\n",
      "Epoch 4700 | Loss 1.4118 | 100 Epochs Runtime 0.631039799999968 sec.\n",
      "Epoch 4800 | Loss 1.3313 | 100 Epochs Runtime 0.6373494000000903 sec.\n",
      "Epoch 4900 | Loss 1.2550 | 100 Epochs Runtime 0.6128744000000381 sec.\n",
      "Epoch 5000 | Loss 1.1825 | 100 Epochs Runtime 0.6128290999998285 sec.\n",
      "Epoch 5100 | Loss 1.1138 | 100 Epochs Runtime 0.6136711000001469 sec.\n",
      "Epoch 5200 | Loss 1.0487 | 100 Epochs Runtime 0.6236376999999322 sec.\n",
      "Epoch 5300 | Loss 0.9871 | 100 Epochs Runtime 0.6112077000001079 sec.\n",
      "Epoch 5400 | Loss 0.9287 | 100 Epochs Runtime 0.6124201000002643 sec.\n",
      "Epoch 5500 | Loss 0.8734 | 100 Epochs Runtime 0.6222913000002279 sec.\n",
      "Epoch 5600 | Loss 0.8211 | 100 Epochs Runtime 0.6070706999999231 sec.\n",
      "Epoch 5700 | Loss 0.7717 | 100 Epochs Runtime 0.587380700000125 sec.\n",
      "Epoch 5800 | Loss 0.7250 | 100 Epochs Runtime 0.6069632999999612 sec.\n",
      "Epoch 5900 | Loss 0.6808 | 100 Epochs Runtime 0.6035242999999184 sec.\n",
      "Epoch 6000 | Loss 0.6391 | 100 Epochs Runtime 0.6133923999999524 sec.\n",
      "Epoch 6100 | Loss 0.5997 | 100 Epochs Runtime 0.6025349999999889 sec.\n",
      "Epoch 6200 | Loss 0.5626 | 100 Epochs Runtime 0.5892069999999592 sec.\n",
      "Epoch 6300 | Loss 0.5275 | 100 Epochs Runtime 0.6040861000001314 sec.\n",
      "Epoch 6400 | Loss 0.4944 | 100 Epochs Runtime 0.6108184000001131 sec.\n",
      "Epoch 6500 | Loss 0.4632 | 100 Epochs Runtime 0.6202750000001629 sec.\n",
      "Epoch 6600 | Loss 0.4338 | 100 Epochs Runtime 0.604981700000053 sec.\n",
      "Epoch 6700 | Loss 0.4060 | 100 Epochs Runtime 0.6140135000001408 sec.\n",
      "Epoch 6800 | Loss 0.3799 | 100 Epochs Runtime 0.6236882000001174 sec.\n",
      "Epoch 6900 | Loss 0.3553 | 100 Epochs Runtime 0.6109248999997305 sec.\n",
      "Epoch 7000 | Loss 0.3322 | 100 Epochs Runtime 0.6123392999999169 sec.\n",
      "Epoch 7100 | Loss 0.3104 | 100 Epochs Runtime 0.6677603000001966 sec.\n",
      "Epoch 7200 | Loss 0.2899 | 100 Epochs Runtime 0.6780916000001582 sec.\n",
      "Epoch 7300 | Loss 0.2706 | 100 Epochs Runtime 0.619428800000037 sec.\n",
      "Epoch 7400 | Loss 0.2525 | 100 Epochs Runtime 0.6364049999999679 sec.\n",
      "Epoch 7500 | Loss 0.2354 | 100 Epochs Runtime 0.6150582000000782 sec.\n",
      "Epoch 7600 | Loss 0.2194 | 100 Epochs Runtime 0.5824725999998464 sec.\n",
      "Epoch 7700 | Loss 0.2044 | 100 Epochs Runtime 0.6145758999998634 sec.\n",
      "Epoch 7800 | Loss 0.1903 | 100 Epochs Runtime 0.6415403000001163 sec.\n",
      "Epoch 7900 | Loss 0.1771 | 100 Epochs Runtime 0.613752900000037 sec.\n",
      "Epoch 8000 | Loss 0.1647 | 100 Epochs Runtime 0.6240305000000035 sec.\n",
      "Epoch 8100 | Loss 0.1530 | 100 Epochs Runtime 0.6121568999998601 sec.\n",
      "Epoch 8200 | Loss 0.1422 | 100 Epochs Runtime 0.6143372999999599 sec.\n",
      "Epoch 8300 | Loss 0.1320 | 100 Epochs Runtime 0.6209379000000865 sec.\n",
      "Epoch 8400 | Loss 0.1224 | 100 Epochs Runtime 0.625446499999839 sec.\n",
      "Epoch 8500 | Loss 0.1135 | 100 Epochs Runtime 0.6578530999999259 sec.\n",
      "Epoch 8600 | Loss 0.1052 | 100 Epochs Runtime 0.7421629999998913 sec.\n",
      "Epoch 8700 | Loss 0.0974 | 100 Epochs Runtime 0.7586740999998653 sec.\n",
      "Epoch 8800 | Loss 0.0901 | 100 Epochs Runtime 0.7090093000000479 sec.\n",
      "Epoch 8900 | Loss 0.0833 | 100 Epochs Runtime 0.701578599999948 sec.\n",
      "Epoch 9000 | Loss 0.0769 | 100 Epochs Runtime 0.717477300000013 sec.\n",
      "Epoch 9100 | Loss 0.0710 | 100 Epochs Runtime 0.7197951000000273 sec.\n",
      "Epoch 9200 | Loss 0.0654 | 100 Epochs Runtime 0.6680624999999054 sec.\n",
      "Epoch 9300 | Loss 0.0603 | 100 Epochs Runtime 0.6659751999999344 sec.\n",
      "Epoch 9400 | Loss 0.0555 | 100 Epochs Runtime 0.7153764000000535 sec.\n",
      "Epoch 9500 | Loss 0.0510 | 100 Epochs Runtime 0.7081673000002411 sec.\n",
      "Epoch 9600 | Loss 0.0468 | 100 Epochs Runtime 1.0221533000000989 sec.\n",
      "Epoch 9700 | Loss 0.0429 | 100 Epochs Runtime 1.126643099999967 sec.\n",
      "Epoch 9800 | Loss 0.0393 | 100 Epochs Runtime 0.9695651000000964 sec.\n",
      "Epoch 9900 | Loss 0.0360 | 100 Epochs Runtime 0.8825633000001005 sec.\n",
      "Epoch 10000 | Loss 0.0328 | 100 Epochs Runtime 0.6543491999999844 sec.\n",
      "Total Training Time 64.3380824999999 sec.\n"
     ]
    }
   ],
   "source": [
    "learning_rate = 0.001\n",
    "\n",
    "fit(X_train_tf, y_train_tf, 10000, lin_modelv2, mse_loss, tf.keras.optimizers.Adam(learning_rate))"
   ]
  },
  {
   "cell_type": "code",
   "execution_count": 57,
   "id": "9f8a08a8",
   "metadata": {},
   "outputs": [],
   "source": [
    "const = lin_modelv2.b.shape[0]//y_test_tf.shape[0]"
   ]
  },
  {
   "cell_type": "code",
   "execution_count": 58,
   "id": "236c7520",
   "metadata": {},
   "outputs": [],
   "source": [
    "# tf.concat([tf.reshape(tf.reduce_mean(lin_modelv2.b[0:3]), shape=(1, 1)), tf.reshape(tf.reduce_mean(lin_modelv2.b[3:6]), shape=(1, 1))], 0)"
   ]
  },
  {
   "cell_type": "code",
   "execution_count": 59,
   "id": "247a6889",
   "metadata": {},
   "outputs": [],
   "source": [
    "li_bias = []\n",
    "for i in range(0, y_test_tf.shape[0]):\n",
    "    if i < y_test_tf.shape[0] - 1 - const:\n",
    "        li_bias.append(tf.reshape(tf.reduce_mean(lin_modelv2.b[i:i+const]), shape=(1,1)))\n",
    "    else:\n",
    "        li_bias.append(tf.reshape(tf.reduce_mean(lin_modelv2.b[i:-1]), shape=(1,1)))"
   ]
  },
  {
   "cell_type": "code",
   "execution_count": 60,
   "id": "c9f8793e",
   "metadata": {},
   "outputs": [
    {
     "data": {
      "text/plain": [
       "TensorShape([252, 1])"
      ]
     },
     "execution_count": 60,
     "metadata": {},
     "output_type": "execute_result"
    }
   ],
   "source": [
    "new_b = tf.concat(li_bias, axis=0)\n",
    "\n",
    "new_b.shape"
   ]
  },
  {
   "cell_type": "code",
   "execution_count": 61,
   "id": "0424aff6",
   "metadata": {},
   "outputs": [
    {
     "data": {
      "text/plain": [
       "TensorShape([252, 12])"
      ]
     },
     "execution_count": 61,
     "metadata": {},
     "output_type": "execute_result"
    }
   ],
   "source": [
    "X_test_tf.shape"
   ]
  },
  {
   "cell_type": "code",
   "execution_count": 62,
   "id": "aca1075a",
   "metadata": {},
   "outputs": [],
   "source": [
    "y_predv2 = tf.matmul(X_test_tf, lin_modelv2.w) + new_b"
   ]
  },
  {
   "cell_type": "code",
   "execution_count": 63,
   "id": "eeb4eb23",
   "metadata": {},
   "outputs": [
    {
     "data": {
      "text/plain": [
       "TensorShape([252, 1])"
      ]
     },
     "execution_count": 63,
     "metadata": {},
     "output_type": "execute_result"
    }
   ],
   "source": [
    "y_test_tf.shape"
   ]
  },
  {
   "cell_type": "code",
   "execution_count": 64,
   "id": "61b71009",
   "metadata": {},
   "outputs": [
    {
     "data": {
      "text/plain": [
       "3.1444368"
      ]
     },
     "execution_count": 64,
     "metadata": {},
     "output_type": "execute_result"
    }
   ],
   "source": [
    "tf.sqrt(mse_loss(y_test_tf, y_predv2)).numpy()"
   ]
  },
  {
   "cell_type": "markdown",
   "id": "0a77e8b3",
   "metadata": {},
   "source": [
    "The result for our new linear model method is not nearly as good as our initial ordinary least squares method, despite the training loss being extremely low. We will settle for the ordinary least squares model.\n",
    "\n",
    "## Compare Results from Both TensorFlow and Scikit Implementations"
   ]
  },
  {
   "cell_type": "code",
   "execution_count": 65,
   "id": "900729ea",
   "metadata": {},
   "outputs": [
    {
     "data": {
      "text/plain": [
       "(<tf.Variable 'W:0' shape=(12, 1) dtype=float32, numpy=\n",
       " array([[ 5.0578337 ],\n",
       "        [-4.336325  ],\n",
       "        [-0.10807285],\n",
       "        [ 0.11505914],\n",
       "        [ 1.9581013 ],\n",
       "        [ 0.7980993 ],\n",
       "        [-0.5695689 ],\n",
       "        [ 0.6444621 ],\n",
       "        [ 0.16945395],\n",
       "        [-0.3507544 ],\n",
       "        [ 0.9836341 ],\n",
       "        [-3.0135841 ]], dtype=float32)>,\n",
       " <tf.Variable 'b:0' shape=() dtype=float32, numpy=10.468635>)"
      ]
     },
     "execution_count": 65,
     "metadata": {},
     "output_type": "execute_result"
    }
   ],
   "source": [
    "# TENSORFLOW WEIGHTS\n",
    "\n",
    "lin_model.w, lin_model.b"
   ]
  },
  {
   "cell_type": "code",
   "execution_count": 66,
   "id": "82b5ce36",
   "metadata": {},
   "outputs": [
    {
     "data": {
      "text/plain": [
       "(array([[ 5.05792864, -4.33649078, -0.10805209,  0.11507979,  1.95809508,\n",
       "          0.79811424, -0.56956564,  0.64445409,  0.16944118, -0.350747  ,\n",
       "          0.98364297, -3.01366394]]),\n",
       " array([10.46917932]))"
      ]
     },
     "execution_count": 66,
     "metadata": {},
     "output_type": "execute_result"
    }
   ],
   "source": [
    "# SCI-KIT LEARN WEIGHTS\n",
    "\n",
    "lin_model_sk.coef_, lin_model_sk.intercept_"
   ]
  },
  {
   "cell_type": "markdown",
   "id": "ce178d93",
   "metadata": {},
   "source": [
    "As expected, the coefficients are almost exactly the same as well.\n",
    "\n",
    "## Make Some Predictions\n",
    "\n",
    "Let us make some predictions about player PERs now.\n",
    "\n",
    "We need to draft an evaluation pipeline."
   ]
  },
  {
   "cell_type": "code",
   "execution_count": 78,
   "id": "1e150729",
   "metadata": {},
   "outputs": [],
   "source": [
    "li_features = ['PLAYER_FGM', 'PLAYER_FG_MISSED', 'PLAYER_FT_MISSED',\n",
    "               'PLAYER_FG3M', 'PLAYER_FTM', 'PLAYER_AST', 'PLAYER_TOV',\n",
    "               'PLAYER_OREB', 'PLAYER_DREB', 'PLAYER_STL', 'PLAYER_BLK', 'PLAYER_PF']"
   ]
  },
  {
   "cell_type": "code",
   "execution_count": 85,
   "id": "e7b7abb8",
   "metadata": {},
   "outputs": [],
   "source": [
    "def predict(FGM, FG_MISSED, FT_MISSED, FG3M, FTM, AST, TOV, OREB, DREB, STL, BLK, PF, model):\n",
    "    # perform nonlinear transformation of inputs\n",
    "    \n",
    "    li = [np.power(FGM, 1/3), np.power(FG_MISSED, 1/3), np.power(FT_MISSED, 1/1.75), np.power(FG3M, 1/1.75), np.power(FTM, 1/3),\n",
    "        np.power(AST, 1/3), np.power(TOV, 1/3), np.power(OREB, 1/3), np.power(DREB, 1/3), np.power(STL, 1/3), np.power(BLK, 1/3),\n",
    "        np.power(PF, 1/3)]\n",
    "\n",
    "    x = np.array(li)\n",
    "    \n",
    "    # predict PER\n",
    "    return np.dot(np.reshape(model.w.numpy(), -1), x) + model.b.numpy()"
   ]
  },
  {
   "cell_type": "markdown",
   "id": "b5f54831",
   "metadata": {},
   "source": [
    "### Nikola Jokic\n",
    "\n",
    "This is a good test because Jokic is the leader in PER in the 2021-22 season."
   ]
  },
  {
   "cell_type": "code",
   "execution_count": 98,
   "id": "bc2c487c",
   "metadata": {},
   "outputs": [
    {
     "name": "stdout",
     "output_type": "stream",
     "text": [
      "Int64Index([1245], dtype='int64')\n"
     ]
    },
    {
     "data": {
      "text/plain": [
       "PLAYER_FGM          764\n",
       "PLAYER_FG_MISSED    547\n",
       "PLAYER_FT_MISSED     89\n",
       "PLAYER_FG3M          97\n",
       "PLAYER_FTM          379\n",
       "PLAYER_AST          584\n",
       "PLAYER_TOV          281\n",
       "PLAYER_OREB         206\n",
       "PLAYER_DREB         813\n",
       "PLAYER_STL          109\n",
       "PLAYER_BLK           63\n",
       "PLAYER_PF           191\n",
       "Name: 1245, dtype: int64"
      ]
     },
     "execution_count": 98,
     "metadata": {},
     "output_type": "execute_result"
    }
   ],
   "source": [
    "print(df.loc[(df['PLAYER_NAME'] == 'Nikola Jokic') & (df['Season'] == '2021-22')].index)\n",
    "\n",
    "player = df[li_features].iloc[1245]\n",
    "\n",
    "player_true_per = df[li_label].iloc[1245]\n",
    "\n",
    "player"
   ]
  },
  {
   "cell_type": "code",
   "execution_count": 99,
   "id": "eab50937",
   "metadata": {},
   "outputs": [
    {
     "name": "stdout",
     "output_type": "stream",
     "text": [
      "Nikola Jokic's predicted PER is 28.79060348818826.\n",
      "Nikola Jokic's actual PER is PLAYER_PER    32.506083\n",
      "Name: 1245, dtype: float64.\n"
     ]
    }
   ],
   "source": [
    "nikola_21_22_per = predict(player['PLAYER_FGM'], player['PLAYER_FG_MISSED'], player['PLAYER_FT_MISSED'],\n",
    "                          player['PLAYER_FG3M'], player['PLAYER_FTM'], player['PLAYER_AST'],\n",
    "                          player['PLAYER_TOV'], player['PLAYER_OREB'], player['PLAYER_DREB'],\n",
    "                          player['PLAYER_STL'], player['PLAYER_BLK'], player['PLAYER_PF'], lin_model)\n",
    "\n",
    "print(f'Nikola Jokic\\'s predicted PER is {nikola_21_22_per}.')\n",
    "\n",
    "print(f'Nikola Jokic\\'s actual PER is {player_true_per}.')"
   ]
  },
  {
   "cell_type": "markdown",
   "id": "42dc4000",
   "metadata": {},
   "source": [
    "### Giannis Antetokounmpo\n",
    "\n",
    "He is second on the list, so let's see where he stands."
   ]
  },
  {
   "cell_type": "code",
   "execution_count": 104,
   "id": "d9904990",
   "metadata": {},
   "outputs": [
    {
     "data": {
      "text/plain": [
       "PLAYER_FGM          689\n",
       "PLAYER_FG_MISSED    556\n",
       "PLAYER_FT_MISSED    213\n",
       "PLAYER_FG3M          71\n",
       "PLAYER_FTM          553\n",
       "PLAYER_AST          388\n",
       "PLAYER_TOV          219\n",
       "PLAYER_OREB         134\n",
       "PLAYER_DREB         644\n",
       "PLAYER_STL           72\n",
       "PLAYER_BLK           91\n",
       "PLAYER_PF           212\n",
       "Name: 570, dtype: int64"
      ]
     },
     "execution_count": 104,
     "metadata": {},
     "output_type": "execute_result"
    }
   ],
   "source": [
    "ind = df.loc[(df['PLAYER_NAME'] == 'Giannis Antetokounmpo') & (df['Season'] == '2021-22')].index[0]\n",
    "\n",
    "player = df[li_features].iloc[ind]\n",
    "\n",
    "player_true_per = df[li_label].iloc[ind]\n",
    "\n",
    "player"
   ]
  },
  {
   "cell_type": "code",
   "execution_count": 106,
   "id": "7cd6cdcd",
   "metadata": {},
   "outputs": [
    {
     "name": "stdout",
     "output_type": "stream",
     "text": [
      "Giannis Antetokounmpo's predicted PER is 26.702318668684832.\n",
      "Giannis Antetokounmpo's actual PER is PLAYER_PER    31.756358\n",
      "Name: 570, dtype: float64.\n"
     ]
    }
   ],
   "source": [
    "giannis_21_22_per = predict(player['PLAYER_FGM'], player['PLAYER_FG_MISSED'], player['PLAYER_FT_MISSED'],\n",
    "                          player['PLAYER_FG3M'], player['PLAYER_FTM'], player['PLAYER_AST'],\n",
    "                          player['PLAYER_TOV'], player['PLAYER_OREB'], player['PLAYER_DREB'],\n",
    "                          player['PLAYER_STL'], player['PLAYER_BLK'], player['PLAYER_PF'], lin_model)\n",
    "\n",
    "print(f'Giannis Antetokounmpo\\'s predicted PER is {giannis_21_22_per}.')\n",
    "\n",
    "print(f'Giannis Antetokounmpo\\'s actual PER is {player_true_per}.')"
   ]
  },
  {
   "cell_type": "markdown",
   "id": "9e51ca92",
   "metadata": {},
   "source": [
    "### Joel Embiid\n",
    "\n",
    "He is third on our list."
   ]
  },
  {
   "cell_type": "code",
   "execution_count": 107,
   "id": "c8813af4",
   "metadata": {},
   "outputs": [
    {
     "data": {
      "text/plain": [
       "PLAYER_FGM          666\n",
       "PLAYER_FG_MISSED    668\n",
       "PLAYER_FT_MISSED    149\n",
       "PLAYER_FG3M          93\n",
       "PLAYER_FTM          654\n",
       "PLAYER_AST          284\n",
       "PLAYER_TOV          214\n",
       "PLAYER_OREB         146\n",
       "PLAYER_DREB         650\n",
       "PLAYER_STL           77\n",
       "PLAYER_BLK           99\n",
       "PLAYER_PF           181\n",
       "Name: 807, dtype: int64"
      ]
     },
     "execution_count": 107,
     "metadata": {},
     "output_type": "execute_result"
    }
   ],
   "source": [
    "ind = df.loc[(df['PLAYER_NAME'] == 'Joel Embiid') & (df['Season'] == '2021-22')].index[0]\n",
    "\n",
    "player = df[li_features].iloc[ind]\n",
    "\n",
    "player_true_per = df[li_label].iloc[ind]\n",
    "\n",
    "player"
   ]
  },
  {
   "cell_type": "code",
   "execution_count": 108,
   "id": "81abeb9c",
   "metadata": {},
   "outputs": [
    {
     "name": "stdout",
     "output_type": "stream",
     "text": [
      "Joel Embiid's predicted PER is 26.087899691215835.\n",
      "Joel Embiid's actual PER is PLAYER_PER    30.986037\n",
      "Name: 807, dtype: float64.\n"
     ]
    }
   ],
   "source": [
    "embiid_21_22_per = predict(player['PLAYER_FGM'], player['PLAYER_FG_MISSED'], player['PLAYER_FT_MISSED'],\n",
    "                          player['PLAYER_FG3M'], player['PLAYER_FTM'], player['PLAYER_AST'],\n",
    "                          player['PLAYER_TOV'], player['PLAYER_OREB'], player['PLAYER_DREB'],\n",
    "                          player['PLAYER_STL'], player['PLAYER_BLK'], player['PLAYER_PF'], lin_model)\n",
    "\n",
    "print(f'Joel Embiid\\'s predicted PER is {embiid_21_22_per}.')\n",
    "\n",
    "print(f'Joel Embiid\\'s actual PER is {player_true_per}.')"
   ]
  },
  {
   "cell_type": "markdown",
   "id": "44e1aa6b",
   "metadata": {},
   "source": [
    "### LeBron James\n",
    "\n",
    "He is fourth on our list."
   ]
  },
  {
   "cell_type": "code",
   "execution_count": 109,
   "id": "695023b0",
   "metadata": {},
   "outputs": [
    {
     "data": {
      "text/plain": [
       "PLAYER_FGM          640\n",
       "PLAYER_FG_MISSED    581\n",
       "PLAYER_FT_MISSED     82\n",
       "PLAYER_FG3M         161\n",
       "PLAYER_FTM          254\n",
       "PLAYER_AST          349\n",
       "PLAYER_TOV          196\n",
       "PLAYER_OREB          63\n",
       "PLAYER_DREB         396\n",
       "PLAYER_STL           73\n",
       "PLAYER_BLK           59\n",
       "PLAYER_PF           121\n",
       "Name: 1036, dtype: int64"
      ]
     },
     "execution_count": 109,
     "metadata": {},
     "output_type": "execute_result"
    }
   ],
   "source": [
    "ind = df.loc[(df['PLAYER_NAME'] == 'LeBron James') & (df['Season'] == '2021-22')].index[0]\n",
    "\n",
    "player = df[li_features].iloc[ind]\n",
    "\n",
    "player_true_per = df[li_label].iloc[ind]\n",
    "\n",
    "player"
   ]
  },
  {
   "cell_type": "code",
   "execution_count": 111,
   "id": "a05246c2",
   "metadata": {},
   "outputs": [
    {
     "name": "stdout",
     "output_type": "stream",
     "text": [
      "LeBron James's predicted PER is 24.60795718163623.\n",
      "LeBron James's actual PER is PLAYER_PER    26.005317\n",
      "Name: 1036, dtype: float64.\n"
     ]
    }
   ],
   "source": [
    "bron_21_22_per = predict(player['PLAYER_FGM'], player['PLAYER_FG_MISSED'], player['PLAYER_FT_MISSED'],\n",
    "                          player['PLAYER_FG3M'], player['PLAYER_FTM'], player['PLAYER_AST'],\n",
    "                          player['PLAYER_TOV'], player['PLAYER_OREB'], player['PLAYER_DREB'],\n",
    "                          player['PLAYER_STL'], player['PLAYER_BLK'], player['PLAYER_PF'], lin_model)\n",
    "\n",
    "print(f'LeBron James\\'s predicted PER is {bron_21_22_per}.')\n",
    "\n",
    "print(f'LeBron James\\'s actual PER is {player_true_per}.')"
   ]
  },
  {
   "cell_type": "markdown",
   "id": "3be518fa",
   "metadata": {},
   "source": [
    "### Kevin Durant\n",
    "\n",
    "Durant is 5th on our PER list, let us check him last."
   ]
  },
  {
   "cell_type": "code",
   "execution_count": 112,
   "id": "1c0ef6f9",
   "metadata": {},
   "outputs": [
    {
     "data": {
      "text/plain": [
       "PLAYER_FGM          578\n",
       "PLAYER_FG_MISSED    537\n",
       "PLAYER_FT_MISSED     37\n",
       "PLAYER_FG3M         115\n",
       "PLAYER_FTM          372\n",
       "PLAYER_AST          351\n",
       "PLAYER_TOV          191\n",
       "PLAYER_OREB          29\n",
       "PLAYER_DREB         378\n",
       "PLAYER_STL           48\n",
       "PLAYER_BLK           52\n",
       "PLAYER_PF           113\n",
       "Name: 953, dtype: int64"
      ]
     },
     "execution_count": 112,
     "metadata": {},
     "output_type": "execute_result"
    }
   ],
   "source": [
    "ind = df.loc[(df['PLAYER_NAME'] == 'Kevin Durant') & (df['Season'] == '2021-22')].index[0]\n",
    "\n",
    "player = df[li_features].iloc[ind]\n",
    "\n",
    "player_true_per = df[li_label].iloc[ind]\n",
    "\n",
    "player"
   ]
  },
  {
   "cell_type": "code",
   "execution_count": 113,
   "id": "ec71de46",
   "metadata": {},
   "outputs": [
    {
     "name": "stdout",
     "output_type": "stream",
     "text": [
      "Kevin Durant's predicted PER is 25.69947460878935.\n",
      "Kevin Durant's actual PER is PLAYER_PER    25.466527\n",
      "Name: 953, dtype: float64.\n"
     ]
    }
   ],
   "source": [
    "KD_21_22_per = predict(player['PLAYER_FGM'], player['PLAYER_FG_MISSED'], player['PLAYER_FT_MISSED'],\n",
    "                          player['PLAYER_FG3M'], player['PLAYER_FTM'], player['PLAYER_AST'],\n",
    "                          player['PLAYER_TOV'], player['PLAYER_OREB'], player['PLAYER_DREB'],\n",
    "                          player['PLAYER_STL'], player['PLAYER_BLK'], player['PLAYER_PF'], lin_model)\n",
    "\n",
    "print(f'Kevin Durant\\'s predicted PER is {KD_21_22_per}.')\n",
    "\n",
    "print(f'Kevin Durant\\'s actual PER is {player_true_per}.')"
   ]
  },
  {
   "cell_type": "markdown",
   "id": "bb7f8eb1",
   "metadata": {},
   "source": [
    "We see the first instance of our model failing to capture the correct relationship here. Kevin Durant's PER, according to our model, is actually higher than LeBron's. Of course our data says this is not true, but it is interesting nonetheless. This tells us that this model we built is pretty good at differentiating the order of the PER's of outstanding, MVP-candidate players, but when we go to lower tiers, the order is not preserved as well. Another thing to note is that this model seems to underscore the players with high PER's, and that it overscores players with lower PER's. Whether this is true or not is yet to be seen, but it is a notable observation from just even looking at the top 5 players."
   ]
  }
 ],
 "metadata": {
  "kernelspec": {
   "display_name": "blank_env",
   "language": "python",
   "name": "blank_env"
  },
  "language_info": {
   "codemirror_mode": {
    "name": "ipython",
    "version": 3
   },
   "file_extension": ".py",
   "mimetype": "text/x-python",
   "name": "python",
   "nbconvert_exporter": "python",
   "pygments_lexer": "ipython3",
   "version": "3.9.7"
  }
 },
 "nbformat": 4,
 "nbformat_minor": 5
}
